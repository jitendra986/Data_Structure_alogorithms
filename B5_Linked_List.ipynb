{
  "nbformat": 4,
  "nbformat_minor": 0,
  "metadata": {
    "colab": {
      "provenance": [],
      "toc_visible": true,
      "authorship_tag": "ABX9TyM7lsEcFyAkjeHQSoaVZ8hd",
      "include_colab_link": true
    },
    "kernelspec": {
      "name": "python3",
      "display_name": "Python 3"
    },
    "language_info": {
      "name": "python"
    }
  },
  "cells": [
    {
      "cell_type": "markdown",
      "metadata": {
        "id": "view-in-github",
        "colab_type": "text"
      },
      "source": [
        "<a href=\"https://colab.research.google.com/github/jitendra986/Data_Structure_alogorithms/blob/main/B5_Linked_List.ipynb\" target=\"_parent\"><img src=\"https://colab.research.google.com/assets/colab-badge.svg\" alt=\"Open In Colab\"/></a>"
      ]
    },
    {
      "cell_type": "code",
      "execution_count": null,
      "metadata": {
        "id": "1AgYVQwCVDjT"
      },
      "outputs": [],
      "source": [
        "class Node:\n",
        "  def __init__(self,value):\n",
        "    self.data = value\n",
        "    self.next = None"
      ]
    },
    {
      "cell_type": "code",
      "source": [
        "a = Node(1)\n",
        "b = Node(2)\n",
        "c=Node(3)"
      ],
      "metadata": {
        "id": "MKc8xxkZVzRT"
      },
      "execution_count": null,
      "outputs": []
    },
    {
      "cell_type": "code",
      "source": [
        "print(b.data)"
      ],
      "metadata": {
        "colab": {
          "base_uri": "https://localhost:8080/"
        },
        "id": "kBCYARKWV3Er",
        "outputId": "bb103725-d08e-4b45-c117-ce3abac82a0d"
      },
      "execution_count": null,
      "outputs": [
        {
          "output_type": "stream",
          "name": "stdout",
          "text": [
            "2\n"
          ]
        }
      ]
    },
    {
      "cell_type": "code",
      "source": [
        "a.next = b\n",
        "b.next = c"
      ],
      "metadata": {
        "id": "kPz1JrWqV4Wp"
      },
      "execution_count": null,
      "outputs": []
    },
    {
      "cell_type": "code",
      "source": [
        "print(a.next)"
      ],
      "metadata": {
        "colab": {
          "base_uri": "https://localhost:8080/"
        },
        "id": "MI6PPre9We0O",
        "outputId": "b7c2ff57-f4f3-4fa9-e74b-ffc1afbc55c5"
      },
      "execution_count": null,
      "outputs": [
        {
          "output_type": "stream",
          "name": "stdout",
          "text": [
            "<__main__.Node object at 0x7c0922f65180>\n"
          ]
        }
      ]
    },
    {
      "cell_type": "code",
      "source": [
        "int(0x7c09552c39a0)"
      ],
      "metadata": {
        "colab": {
          "base_uri": "https://localhost:8080/"
        },
        "id": "oTdD42adXY3E",
        "outputId": "53010093-57fd-4fb2-a3d4-d4b14b269f9d"
      },
      "execution_count": null,
      "outputs": [
        {
          "output_type": "execute_result",
          "data": {
            "text/plain": [
              "136379525511584"
            ]
          },
          "metadata": {},
          "execution_count": 51
        }
      ]
    },
    {
      "cell_type": "code",
      "source": [
        "class Node:\n",
        "  def __init__(self,value):\n",
        "    self.data = value\n",
        "    self.next = None"
      ],
      "metadata": {
        "id": "jMK6QVHkXfaO"
      },
      "execution_count": 17,
      "outputs": []
    },
    {
      "cell_type": "code",
      "source": [
        "class LinkedList:\n",
        "  def __init__(self):\n",
        "\n",
        "    #Empty Linked List\n",
        "    self.head = None\n",
        "    # counter to count number of nodes in Linked-List\n",
        "    self.n = 0\n",
        "\n",
        "  def __len__(self):\n",
        "    return self.n\n",
        "\n",
        "  #insert method to insert value in head\n",
        "  def insert_head(self, value):\n",
        "    #new node\n",
        "    new_node = Node(value)\n",
        "\n",
        "    # create connection\n",
        "    new_node.next=self.head\n",
        "    # reassign head\n",
        "    self.head = new_node\n",
        "\n",
        "\n",
        "    #increment n\n",
        "    self.n = self.n + 1\n",
        "\n",
        "#Write a Python program to reverse a Linked List containing integer data\n",
        "\n",
        "  def reverse(self):\n",
        "    prev_node = None\n",
        "    curr_node = self.head\n",
        "\n",
        "    while curr_node!=None:\n",
        "      next_node = curr_node.next\n",
        "      curr_node.next = prev_node\n",
        "      prev_node = curr_node\n",
        "      curr_node = next_node\n",
        "\n",
        "    self.head = prev_node\n",
        "\n",
        "\n",
        "  \"\"\"def traverse(self):\n",
        "    curr = self.head\n",
        "\n",
        "    while curr != None:\n",
        "      print(curr.data)\n",
        "      curr=curr.next\n",
        "\"\"\"\n",
        "  def __str__(self):\n",
        "    curr = self.head\n",
        "\n",
        "    result = ''\n",
        "    while curr!= None:\n",
        "      #result = result +str(curr.data)+'->'\n",
        "      result = result +str(curr.data)\n",
        "      #str(curr.next)\n",
        "      curr=curr.next\n",
        "\n",
        "    #return result[:-2]\n",
        "    return result[:]\n",
        "\n",
        "\n",
        "  def append(self, value):\n",
        "    new_node = Node(value)\n",
        "    if self.head ==None:\n",
        "      self.head = new_node\n",
        "      self.n =self.n+1\n",
        "      return\n",
        "    curr = self.head\n",
        "\n",
        "    while curr.next!= None:\n",
        "      curr = curr.next\n",
        "    #you are at the last node\n",
        "    curr.next = new_node\n",
        "    self.n =self.n+1\n",
        "\n",
        "  def insert_after(self,after,value):\n",
        "    new_node = Node(value)\n",
        "\n",
        "    curr = self.head\n",
        "\n",
        "    while curr !=None:\n",
        "      if curr.data==after:\n",
        "        break\n",
        "      curr=curr.next\n",
        "\n",
        "    #case 1 break --> Item apko mil gaya --> it means curr--> is not None\n",
        "    if curr!= None:\n",
        "      #logic\n",
        "      new_node.next =curr.next\n",
        "      curr.next = new_node\n",
        "      self.n = self.n+1\n",
        "    else:\n",
        "      return 'Item not found'\n",
        "    #case 2 loop pura chala --> item nahi mila --> it means curr--> is None\n",
        "\n",
        "  def clear(self):\n",
        "    self.head= None\n",
        "    self.n =0\n",
        "\n",
        "  def delete_head(self):\n",
        "    if self.head == None:\n",
        "      #empty\n",
        "      return 'Item not found'\n",
        "    self.head = self.head.next\n",
        "    self.n = self.n-1\n",
        "  def pop(self):\n",
        "    if self.head == None:\n",
        "      #empty\n",
        "      return \"Empty LL\"\n",
        "\n",
        "    curr = self.head\n",
        "    # kya linked list me 1 item hai?\n",
        "    if curr.next == None:\n",
        "      # head hi hoga(delete from head)\n",
        "      return self.delete_head()\n",
        "    while curr.next.next!= None:\n",
        "      curr = curr.next\n",
        "\n",
        "    # curr -> 2nd last node\n",
        "    curr.next = None\n",
        "    self.n = self.n-1\n",
        "\n",
        "  def remove(self, value):\n",
        "    if self.head == None:\n",
        "      #empty\n",
        "      return \"Empty LL\"\n",
        "    if self.head.data == value:\n",
        "      #you want to remove the head\n",
        "      return self.delete_head()\n",
        "\n",
        "    curr = self.head\n",
        "\n",
        "    while curr.next != None:\n",
        "      if curr.next.data ==value:\n",
        "        break\n",
        "      curr = curr.next\n",
        "\n",
        "    #2 cases item mil gaya\n",
        "    #item nahi mila\n",
        "\n",
        "    if curr.next ==None:\n",
        "      #item nahi mila\n",
        "      return 'Not Found'\n",
        "    else:\n",
        "      curr.next = curr.next.next\n",
        "\n",
        "  def search(self,item):\n",
        "    curr = self.head\n",
        "\n",
        "    pos =0\n",
        "    while curr!=None:\n",
        "      if curr.data==item:\n",
        "        return pos\n",
        "      curr = curr.next\n",
        "      pos=pos+1\n",
        "\n",
        "    return 'Not found'\n",
        "\n",
        "  def __getitem__(self, index):\n",
        "\n",
        "    curr = self.head\n",
        "    pos = 0\n",
        "\n",
        "    while curr != None:\n",
        "      if pos ==index:\n",
        "        return curr.data\n",
        "      curr = curr.next\n",
        "      pos=pos+1\n",
        "\n",
        "    return 'Index Error'\n",
        "\n",
        "\n",
        "  def replace_max(self, value):\n",
        "    temp = self.head\n",
        "    max = temp\n",
        "\n",
        "    while temp!=None:\n",
        "      if temp.data > max.data:\n",
        "        max = temp\n",
        "        print(max)\n",
        "      temp = temp.next\n",
        "\n",
        "    max.data = value\n",
        "\n",
        "\n",
        "# what is the output of following function when head node of following linked list is passed as input ?\n",
        "# 1->2->3->4->5\n",
        "# answer: 1234321\n",
        "  def fun(self):\n",
        "    if(self.head==None):\n",
        "      return\n",
        "    if self.head.next.next!=None:\n",
        "      print(self.head.data, \"\",end=\"\")\n",
        "      fun(self.head.next)\n",
        "    print(self.head.data, \"\",end=\"\")\n",
        "\n",
        "#sum of  values Linked List present at odd index\n",
        "  def sum_odd_nodes(self):\n",
        "    temp = self.head\n",
        "    counter=0\n",
        "    result=0\n",
        "\n",
        "    while temp!=None:\n",
        "      if counter%2 !=0:\n",
        "        result = result+temp.data\n",
        "\n",
        "      counter +=1\n",
        "      temp=temp.next\n",
        "\n",
        "    print(result)\n",
        "\n",
        "  def change_sent(self):\n",
        "\n",
        "    temp = self.head\n",
        "    while temp != None:\n",
        "      if temp.data=='*' or temp.data=='/':\n",
        "        temp.data = ' '\n",
        "\n",
        "        if temp.next.data=='*' or temp.next.data=='/':\n",
        "          temp.next.next.data= temp.next.next.data.upper()\n",
        "          temp.next = temp.next.next\n",
        "\n",
        "\n",
        "      temp=temp.next\n"
      ],
      "metadata": {
        "id": "qVepI6zaYTIG"
      },
      "execution_count": 18,
      "outputs": []
    },
    {
      "cell_type": "code",
      "source": [
        "L = LinkedList()"
      ],
      "metadata": {
        "id": "eyo-Ru1HaZcC"
      },
      "execution_count": 19,
      "outputs": []
    },
    {
      "cell_type": "code",
      "source": [
        "# L.insert_head(2)\n",
        "# L.insert_head(3)\n",
        "# L.insert_head(4)\n",
        "# L.insert_head(5)\n",
        "# L.insert_head(6)\n",
        "L.insert_head('T')\n",
        "L.insert_head('h')\n",
        "L.insert_head('e')\n",
        "L.insert_head('/')\n",
        "L.insert_head('*')\n",
        "L.insert_head('s')\n",
        "L.insert_head('k')\n",
        "L.insert_head('y')\n",
        "L.insert_head('*')\n",
        "L.insert_head('i')\n",
        "L.insert_head('s')\n",
        "L.insert_head('/')\n",
        "L.insert_head('/')\n",
        "L.insert_head('b')\n",
        "L.insert_head('l')\n",
        "L.insert_head('u')\n",
        "L.insert_head('e')\n"
      ],
      "metadata": {
        "id": "5M48Y235pOx2"
      },
      "execution_count": 20,
      "outputs": []
    },
    {
      "cell_type": "code",
      "source": [
        "print(L)"
      ],
      "metadata": {
        "colab": {
          "base_uri": "https://localhost:8080/"
        },
        "id": "ravbPkwJo-y7",
        "outputId": "b663315c-c887-4368-94be-3b6bc3dde836"
      },
      "execution_count": 21,
      "outputs": [
        {
          "output_type": "stream",
          "name": "stdout",
          "text": [
            "eulb//si*yks*/ehT\n"
          ]
        }
      ]
    },
    {
      "cell_type": "code",
      "source": [
        "L.reverse()"
      ],
      "metadata": {
        "id": "C1kJmPBSo4rU"
      },
      "execution_count": 22,
      "outputs": []
    },
    {
      "cell_type": "code",
      "source": [
        "print(L)"
      ],
      "metadata": {
        "colab": {
          "base_uri": "https://localhost:8080/"
        },
        "id": "EGENovwtpQaN",
        "outputId": "806d040b-091f-48f6-d437-974162111e65"
      },
      "execution_count": 23,
      "outputs": [
        {
          "output_type": "stream",
          "name": "stdout",
          "text": [
            "The/*sky*is//blue\n"
          ]
        }
      ]
    },
    {
      "cell_type": "code",
      "source": [
        "L.change_sent()"
      ],
      "metadata": {
        "id": "2mSm7cGAbZ6R"
      },
      "execution_count": 24,
      "outputs": []
    },
    {
      "cell_type": "code",
      "source": [
        "print(L)"
      ],
      "metadata": {
        "colab": {
          "base_uri": "https://localhost:8080/"
        },
        "id": "aPYTmHxfbf4K",
        "outputId": "e2c8baa3-202f-4916-bf3e-6095be7aa220"
      },
      "execution_count": 25,
      "outputs": [
        {
          "output_type": "stream",
          "name": "stdout",
          "text": [
            "The Sky is Blue\n"
          ]
        }
      ]
    },
    {
      "cell_type": "code",
      "source": [
        "L.fun()"
      ],
      "metadata": {
        "id": "4GPRlsCtulta",
        "colab": {
          "base_uri": "https://localhost:8080/"
        },
        "outputId": "9225503e-bd9e-406a-cc35-936729d7f6c4"
      },
      "execution_count": null,
      "outputs": [
        {
          "output_type": "stream",
          "name": "stdout",
          "text": [
            "1 2 3 4 3 2 1 "
          ]
        }
      ]
    },
    {
      "cell_type": "code",
      "source": [
        "print(L)"
      ],
      "metadata": {
        "colab": {
          "base_uri": "https://localhost:8080/"
        },
        "id": "Aii0GLBSQnyO",
        "outputId": "0fe59c3e-4ba8-4a34-e6ce-133dd0bf0d45"
      },
      "execution_count": null,
      "outputs": [
        {
          "output_type": "stream",
          "name": "stdout",
          "text": [
            "4->3->2->1\n"
          ]
        }
      ]
    },
    {
      "cell_type": "code",
      "source": [
        "L.sum_odd_nodes()"
      ],
      "metadata": {
        "id": "ZhUjRfs6QpFK",
        "colab": {
          "base_uri": "https://localhost:8080/"
        },
        "outputId": "d77d8f22-bc28-4bef-ea93-fb960b598126"
      },
      "execution_count": null,
      "outputs": [
        {
          "output_type": "stream",
          "name": "stdout",
          "text": [
            "32\n"
          ]
        }
      ]
    },
    {
      "cell_type": "code",
      "source": [
        "print(L)"
      ],
      "metadata": {
        "colab": {
          "base_uri": "https://localhost:8080/"
        },
        "id": "WojoQweBJ13_",
        "outputId": "bd208253-9b68-4c9e-8e64-86c35f2f1412"
      },
      "execution_count": null,
      "outputs": [
        {
          "output_type": "stream",
          "name": "stdout",
          "text": [
            "91->28->3->4->8\n"
          ]
        }
      ]
    },
    {
      "cell_type": "code",
      "source": [
        "#Given a linked list of character,\n",
        "#write a python function to return a new string that is created by appending all the characters given in the linked list as per the rules given below.\n",
        "\n",
        "#Rules -->\n",
        "#replace '*' or '/' by a single space.\n",
        "#in case of two consecutive occurrences of '*' or '/', replace those two occurrences by a single space\n",
        "# and convert the next character to upper case\n",
        "# Assueme that ->\n",
        "#there will not be more than two consecutive occurrences of '*' or '/'\n",
        "# The linked list will always end with an alphabet\n",
        "# Sample input\n",
        "#A,n,*,/,a,p,p,l,e,*,a,/,day,*,*,k,e,e,p,s,/,*,a,/,/,d,o,c,t,o,r,*,A,w,a,y\n",
        "#Expected Output\n",
        "#An Apple a day keeps a doctor away"
      ],
      "metadata": {
        "id": "vGpLONtql7AS"
      },
      "execution_count": null,
      "outputs": []
    }
  ]
}