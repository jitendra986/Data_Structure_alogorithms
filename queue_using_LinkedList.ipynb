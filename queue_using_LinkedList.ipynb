{
  "nbformat": 4,
  "nbformat_minor": 0,
  "metadata": {
    "colab": {
      "provenance": [],
      "authorship_tag": "ABX9TyOzPW+N0Rf/3xrNTKn5aKP8",
      "include_colab_link": true
    },
    "kernelspec": {
      "name": "python3",
      "display_name": "Python 3"
    },
    "language_info": {
      "name": "python"
    }
  },
  "cells": [
    {
      "cell_type": "markdown",
      "metadata": {
        "id": "view-in-github",
        "colab_type": "text"
      },
      "source": [
        "<a href=\"https://colab.research.google.com/github/jitendra986/Data_Structure_alogorithms/blob/main/queue_using_LinkedList.ipynb\" target=\"_parent\"><img src=\"https://colab.research.google.com/assets/colab-badge.svg\" alt=\"Open In Colab\"/></a>"
      ]
    },
    {
      "cell_type": "code",
      "execution_count": 3,
      "metadata": {
        "id": "QKBTvpEIzCyF"
      },
      "outputs": [],
      "source": [
        "class Node:\n",
        "  def __init__(self,value):\n",
        "    self.data = value\n",
        "    self.next=None\n",
        ""
      ]
    },
    {
      "cell_type": "code",
      "source": [
        "class Queue:\n",
        "  def __init__(self):\n",
        "    self.front = None\n",
        "    self.rear  = None\n",
        "\n",
        "  def enqueue(self,value):\n",
        "\n",
        "    new_node = Node(value)\n",
        "\n",
        "    if self.rear==None:\n",
        "      self.front=new_node\n",
        "      self.rear=self.front\n",
        "    else:\n",
        "      self.rear.next = new_node\n",
        "      self.rear=new_node\n",
        "\n",
        "  def dequeue(self):\n",
        "    if self.front==None:\n",
        "      return 'Empty'\n",
        "    else:\n",
        "      self.a= self.front\n",
        "      self.front= self.front.next\n",
        "      return self.a.data\n",
        "\n",
        "  def traverse(self):\n",
        "\n",
        "    temp = self.front\n",
        "\n",
        "    while temp!=None:\n",
        "      print(temp.data, end='')\n",
        "      #print(temp.data)\n",
        "      temp=temp.next\n",
        "\n",
        "  def is_empty(self):\n",
        "    return self.front==None\n",
        "\n",
        "  def size(self):\n",
        "    temp = self.front\n",
        "    count=0\n",
        "    while temp!=None:\n",
        "      count+=1\n",
        "      temp=temp.next\n",
        "    return count\n",
        "\n",
        "  def front_item(self):\n",
        "    if self.front==None:\n",
        "      return 'Empty'\n",
        "    else:\n",
        "      return self.front.data\n",
        "\n",
        "  def rear_item(self):\n",
        "    if self.front==None:\n",
        "      return 'Empty'\n",
        "    else:\n",
        "      return self.rear.data"
      ],
      "metadata": {
        "id": "6ynCwJFdzZr5"
      },
      "execution_count": 89,
      "outputs": []
    },
    {
      "cell_type": "code",
      "source": [
        "q= Queue()"
      ],
      "metadata": {
        "id": "1UMhCXBxzmne"
      },
      "execution_count": 90,
      "outputs": []
    },
    {
      "cell_type": "code",
      "source": [
        "q.enqueue(1)\n",
        "q.enqueue(2)\n",
        "\n",
        "q.enqueue(3)"
      ],
      "metadata": {
        "id": "ZYhJdMj1_yyr"
      },
      "execution_count": 91,
      "outputs": []
    },
    {
      "cell_type": "code",
      "source": [
        "q.traverse()"
      ],
      "metadata": {
        "colab": {
          "base_uri": "https://localhost:8080/"
        },
        "id": "wn294VGo_8wu",
        "outputId": "c1fe2dff-71c2-46c0-c4cf-9b1faa3c4e3a"
      },
      "execution_count": 92,
      "outputs": [
        {
          "output_type": "stream",
          "name": "stdout",
          "text": [
            "123"
          ]
        }
      ]
    },
    {
      "cell_type": "code",
      "source": [
        "q.dequeue()"
      ],
      "metadata": {
        "colab": {
          "base_uri": "https://localhost:8080/"
        },
        "id": "Za09TqCB_-y3",
        "outputId": "17784da2-828d-45c0-b3d8-a7452e1c8b98"
      },
      "execution_count": 93,
      "outputs": [
        {
          "output_type": "execute_result",
          "data": {
            "text/plain": [
              "1"
            ]
          },
          "metadata": {},
          "execution_count": 93
        }
      ]
    },
    {
      "cell_type": "code",
      "source": [
        "q.traverse()"
      ],
      "metadata": {
        "colab": {
          "base_uri": "https://localhost:8080/"
        },
        "id": "j8IRchMhRE-C",
        "outputId": "bcb2a767-3254-489c-e5e2-b5cd2d06d1cd"
      },
      "execution_count": 94,
      "outputs": [
        {
          "output_type": "stream",
          "name": "stdout",
          "text": [
            "23"
          ]
        }
      ]
    },
    {
      "cell_type": "code",
      "source": [
        "q.is_empty()"
      ],
      "metadata": {
        "colab": {
          "base_uri": "https://localhost:8080/"
        },
        "id": "St00QKouAMbn",
        "outputId": "bb2a6b4e-8e1e-428a-8d57-f757fb046933"
      },
      "execution_count": 95,
      "outputs": [
        {
          "output_type": "execute_result",
          "data": {
            "text/plain": [
              "False"
            ]
          },
          "metadata": {},
          "execution_count": 95
        }
      ]
    },
    {
      "cell_type": "code",
      "source": [
        "q.front_item()"
      ],
      "metadata": {
        "colab": {
          "base_uri": "https://localhost:8080/"
        },
        "id": "ymvNcmZEBvlq",
        "outputId": "8d3c7ec1-4665-483f-a735-6f0966aabdeb"
      },
      "execution_count": 96,
      "outputs": [
        {
          "output_type": "execute_result",
          "data": {
            "text/plain": [
              "2"
            ]
          },
          "metadata": {},
          "execution_count": 96
        }
      ]
    },
    {
      "cell_type": "code",
      "source": [
        "q.traverse()"
      ],
      "metadata": {
        "colab": {
          "base_uri": "https://localhost:8080/"
        },
        "id": "WDcYXU77B1PC",
        "outputId": "9f432cbc-e3d3-431e-8b12-89f07832ec40"
      },
      "execution_count": 21,
      "outputs": [
        {
          "output_type": "stream",
          "name": "stdout",
          "text": [
            "5 7 "
          ]
        }
      ]
    },
    {
      "cell_type": "code",
      "source": [
        "q.rear_item()"
      ],
      "metadata": {
        "colab": {
          "base_uri": "https://localhost:8080/"
        },
        "id": "bYNo__lBB4va",
        "outputId": "d0a0fcda-ad8e-4d3b-838e-d9da34540551"
      },
      "execution_count": 64,
      "outputs": [
        {
          "output_type": "execute_result",
          "data": {
            "text/plain": [
              "7"
            ]
          },
          "metadata": {},
          "execution_count": 64
        }
      ]
    },
    {
      "cell_type": "code",
      "source": [
        "123//10"
      ],
      "metadata": {
        "colab": {
          "base_uri": "https://localhost:8080/"
        },
        "id": "Y73gyBf3KCn2",
        "outputId": "25e6c941-a2c2-4470-e38c-d607d2f43fbc"
      },
      "execution_count": 27,
      "outputs": [
        {
          "output_type": "execute_result",
          "data": {
            "text/plain": [
              "12"
            ]
          },
          "metadata": {},
          "execution_count": 27
        }
      ]
    },
    {
      "cell_type": "code",
      "source": [
        "12//10"
      ],
      "metadata": {
        "colab": {
          "base_uri": "https://localhost:8080/"
        },
        "id": "GggR_unoLH9V",
        "outputId": "85d8c3a1-9fc3-42bd-f435-f5b3e9b846a4"
      },
      "execution_count": 28,
      "outputs": [
        {
          "output_type": "execute_result",
          "data": {
            "text/plain": [
              "1"
            ]
          },
          "metadata": {},
          "execution_count": 28
        }
      ]
    },
    {
      "cell_type": "code",
      "source": [
        "123%10"
      ],
      "metadata": {
        "colab": {
          "base_uri": "https://localhost:8080/"
        },
        "id": "lANg6on6K1oH",
        "outputId": "3c1bf13c-a297-45e4-ad2e-071abad2c7df"
      },
      "execution_count": 26,
      "outputs": [
        {
          "output_type": "execute_result",
          "data": {
            "text/plain": [
              "3"
            ]
          },
          "metadata": {},
          "execution_count": 26
        }
      ]
    },
    {
      "cell_type": "code",
      "source": [
        "12%10"
      ],
      "metadata": {
        "colab": {
          "base_uri": "https://localhost:8080/"
        },
        "id": "mBU0WnycMtbg",
        "outputId": "000f56e6-f682-413a-a650-8dd500ef8c37"
      },
      "execution_count": 29,
      "outputs": [
        {
          "output_type": "execute_result",
          "data": {
            "text/plain": [
              "2"
            ]
          },
          "metadata": {},
          "execution_count": 29
        }
      ]
    },
    {
      "cell_type": "code",
      "source": [
        "1%10"
      ],
      "metadata": {
        "colab": {
          "base_uri": "https://localhost:8080/"
        },
        "id": "BxyDhv3JM8UH",
        "outputId": "29b12690-0692-4e79-e7dc-909c2ee397ef"
      },
      "execution_count": 30,
      "outputs": [
        {
          "output_type": "execute_result",
          "data": {
            "text/plain": [
              "1"
            ]
          },
          "metadata": {},
          "execution_count": 30
        }
      ]
    },
    {
      "cell_type": "code",
      "source": [
        "1//10"
      ],
      "metadata": {
        "colab": {
          "base_uri": "https://localhost:8080/"
        },
        "id": "mmE2OYRKO3cR",
        "outputId": "5d07dc84-6324-4127-f23f-b07573112bec"
      },
      "execution_count": 31,
      "outputs": [
        {
          "output_type": "execute_result",
          "data": {
            "text/plain": [
              "0"
            ]
          },
          "metadata": {},
          "execution_count": 31
        }
      ]
    },
    {
      "cell_type": "code",
      "source": [
        "def fun(num):\n",
        "  q = Queue()\n",
        "  if(num==0):\n",
        "    return 0\n",
        "  else:\n",
        "    q.enqueue(num%10)\n",
        "    res=fun(num//10)\n",
        "\n",
        "    res = (res*10)+(q.dequeue())\n",
        "\n",
        "  return res\n"
      ],
      "metadata": {
        "id": "e9d0CWsdH5Dz"
      },
      "execution_count": 97,
      "outputs": []
    },
    {
      "cell_type": "code",
      "source": [
        "fun(123)"
      ],
      "metadata": {
        "colab": {
          "base_uri": "https://localhost:8080/"
        },
        "id": "py321qdDKTps",
        "outputId": "f750b0a7-0688-47ca-8f22-56f2e4f2f53e"
      },
      "execution_count": 98,
      "outputs": [
        {
          "output_type": "execute_result",
          "data": {
            "text/plain": [
              "123"
            ]
          },
          "metadata": {},
          "execution_count": 98
        }
      ]
    },
    {
      "cell_type": "code",
      "source": [],
      "metadata": {
        "id": "bfGgcGcZKZ4h"
      },
      "execution_count": null,
      "outputs": []
    }
  ]
}