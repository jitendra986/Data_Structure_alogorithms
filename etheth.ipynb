{
  "nbformat": 4,
  "nbformat_minor": 0,
  "metadata": {
    "colab": {
      "provenance": [],
      "authorship_tag": "ABX9TyOoXi7Irj8fx2sD1s75upac",
      "include_colab_link": true
    },
    "kernelspec": {
      "name": "python3",
      "display_name": "Python 3"
    },
    "language_info": {
      "name": "python"
    }
  },
  "cells": [
    {
      "cell_type": "markdown",
      "metadata": {
        "id": "view-in-github",
        "colab_type": "text"
      },
      "source": [
        "<a href=\"https://colab.research.google.com/github/jitendra986/Data_Structure_alogorithms/blob/main/etheth.ipynb\" target=\"_parent\"><img src=\"https://colab.research.google.com/assets/colab-badge.svg\" alt=\"Open In Colab\"/></a>"
      ]
    },
    {
      "cell_type": "code",
      "execution_count": null,
      "metadata": {
        "colab": {
          "base_uri": "https://localhost:8080/"
        },
        "id": "WY8gxYFJYXmm",
        "outputId": "44c68932-acde-4de5-8b52-b1333e8579ab"
      },
      "outputs": [
        {
          "output_type": "stream",
          "name": "stdout",
          "text": [
            "1\n",
            "2\n",
            "3\n",
            "4\n",
            "5\n",
            "6\n",
            "7\n",
            "8\n",
            "9\n",
            "10\n",
            "11\n",
            "12\n",
            "13\n",
            "14\n",
            "15\n",
            "16\n",
            "17\n",
            "18\n",
            "19\n",
            "20\n",
            "21\n",
            "22\n",
            "23\n",
            "24\n",
            "25\n",
            "26\n",
            "27\n",
            "28\n",
            "29\n",
            "30\n",
            "31\n",
            "32\n",
            "33\n",
            "34\n",
            "35\n",
            "36\n",
            "37\n",
            "38\n",
            "39\n",
            "40\n",
            "41\n",
            "42\n",
            "43\n",
            "44\n",
            "45\n",
            "46\n",
            "47\n",
            "48\n",
            "49\n",
            "50\n",
            "51\n",
            "52\n",
            "53\n",
            "54\n",
            "55\n",
            "56\n",
            "57\n",
            "58\n",
            "59\n",
            "60\n",
            "61\n",
            "62\n",
            "63\n",
            "64\n",
            "65\n",
            "66\n",
            "67\n",
            "68\n",
            "69\n",
            "70\n",
            "71\n",
            "72\n",
            "73\n",
            "74\n",
            "75\n",
            "76\n",
            "77\n",
            "78\n",
            "79\n",
            "80\n",
            "81\n",
            "82\n",
            "83\n",
            "84\n",
            "85\n",
            "86\n",
            "87\n",
            "88\n",
            "89\n",
            "90\n",
            "91\n",
            "92\n",
            "93\n",
            "94\n",
            "95\n",
            "96\n",
            "97\n",
            "98\n",
            "99\n",
            "100\n",
            "0.026433467864990234\n"
          ]
        }
      ],
      "source": [
        "import time\n",
        "\n",
        "start = time.time()\n",
        "for i in range(1, 101):\n",
        "  print(i)\n",
        "\n",
        "print(time.time()-start)\n",
        "#but we dont use this approach to measure time efficiency in industry because machine with different configuration will give digfferent execution time."
      ]
    },
    {
      "cell_type": "code",
      "source": [
        "import time\n",
        "\n",
        "start = time.time()\n",
        "i=1\n",
        "while i<101:\n",
        "  print(i)\n",
        "  i = i+1\n",
        "\n",
        "print(time.time()-start)"
      ],
      "metadata": {
        "colab": {
          "base_uri": "https://localhost:8080/"
        },
        "id": "YrhmfmAGiLaz",
        "outputId": "5396fdf4-9e24-4fc0-8ee9-74f1eb15380a"
      },
      "execution_count": null,
      "outputs": [
        {
          "output_type": "stream",
          "name": "stdout",
          "text": [
            "1\n",
            "2\n",
            "3\n",
            "4\n",
            "5\n",
            "6\n",
            "7\n",
            "8\n",
            "9\n",
            "10\n",
            "11\n",
            "12\n",
            "13\n",
            "14\n",
            "15\n",
            "16\n",
            "17\n",
            "18\n",
            "19\n",
            "20\n",
            "21\n",
            "22\n",
            "23\n",
            "24\n",
            "25\n",
            "26\n",
            "27\n",
            "28\n",
            "29\n",
            "30\n",
            "31\n",
            "32\n",
            "33\n",
            "34\n",
            "35\n",
            "36\n",
            "37\n",
            "38\n",
            "39\n",
            "40\n",
            "41\n",
            "42\n",
            "43\n",
            "44\n",
            "45\n",
            "46\n",
            "47\n",
            "48\n",
            "49\n",
            "50\n",
            "51\n",
            "52\n",
            "53\n",
            "54\n",
            "55\n",
            "56\n",
            "57\n",
            "58\n",
            "59\n",
            "60\n",
            "61\n",
            "62\n",
            "63\n",
            "64\n",
            "65\n",
            "66\n",
            "67\n",
            "68\n",
            "69\n",
            "70\n",
            "71\n",
            "72\n",
            "73\n",
            "74\n",
            "75\n",
            "76\n",
            "77\n",
            "78\n",
            "79\n",
            "80\n",
            "81\n",
            "82\n",
            "83\n",
            "84\n",
            "85\n",
            "86\n",
            "87\n",
            "88\n",
            "89\n",
            "90\n",
            "91\n",
            "92\n",
            "93\n",
            "94\n",
            "95\n",
            "96\n",
            "97\n",
            "98\n",
            "99\n",
            "100\n",
            "0.01599740982055664\n"
          ]
        }
      ]
    },
    {
      "cell_type": "code",
      "source": [
        "L = [1,2,3,4,5]\n",
        "\n",
        "sum = 0\n",
        "for i in L:\n",
        "  sum = sum+i\n",
        "print(sum)\n",
        "\n",
        "product =1\n",
        "for i in L:\n",
        "  product = product*i\n",
        "\n",
        "print(product)"
      ],
      "metadata": {
        "colab": {
          "base_uri": "https://localhost:8080/"
        },
        "id": "slePZC9FiULq",
        "outputId": "ec3c710c-e4c2-4f77-8bdc-bb0d96ce938b"
      },
      "execution_count": null,
      "outputs": [
        {
          "output_type": "stream",
          "name": "stdout",
          "text": [
            "15\n",
            "120\n"
          ]
        }
      ]
    },
    {
      "cell_type": "code",
      "source": [
        "L= [1,2,3,4,5]\n",
        "\n",
        "for i in L:\n",
        "  for j in L:\n",
        "    print('{},{}'. format(i,j))"
      ],
      "metadata": {
        "colab": {
          "base_uri": "https://localhost:8080/"
        },
        "id": "bSwHYGIOU7mG",
        "outputId": "3b6d128c-f16c-4c41-cfb0-9eaffd3050ba"
      },
      "execution_count": null,
      "outputs": [
        {
          "output_type": "stream",
          "name": "stdout",
          "text": [
            "1,1\n",
            "1,2\n",
            "1,3\n",
            "1,4\n",
            "1,5\n",
            "2,1\n",
            "2,2\n",
            "2,3\n",
            "2,4\n",
            "2,5\n",
            "3,1\n",
            "3,2\n",
            "3,3\n",
            "3,4\n",
            "3,5\n",
            "4,1\n",
            "4,2\n",
            "4,3\n",
            "4,4\n",
            "4,5\n",
            "5,1\n",
            "5,2\n",
            "5,3\n",
            "5,4\n",
            "5,5\n"
          ]
        }
      ]
    },
    {
      "cell_type": "code",
      "source": [
        "#this is example of logrithmic order of growth\n",
        "def intToStr(i):\n",
        "  digits = '0123456789'\n",
        "\n",
        "  if i==0:\n",
        "    return '0'\n",
        "  result = ''\n",
        "\n",
        "  while i>0:\n",
        "    result = digits[i%10]+result\n",
        "    i = i//10 # gives us Quotient\n",
        "  return result"
      ],
      "metadata": {
        "id": "8TLhIF0lVQ42"
      },
      "execution_count": null,
      "outputs": []
    },
    {
      "cell_type": "markdown",
      "source": [
        "![relation.png](data:image/png;base64,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)"
      ],
      "metadata": {
        "id": "qt0gr-Ybil8C"
      }
    },
    {
      "cell_type": "code",
      "source": [
        "intToStr(155)"
      ],
      "metadata": {
        "colab": {
          "base_uri": "https://localhost:8080/",
          "height": 36
        },
        "id": "J1vdLqXoWwM2",
        "outputId": "9c62c3b4-02e2-4805-eacf-62f2e4570f2b"
      },
      "execution_count": null,
      "outputs": [
        {
          "output_type": "execute_result",
          "data": {
            "text/plain": [
              "'15'"
            ],
            "application/vnd.google.colaboratory.intrinsic+json": {
              "type": "string"
            }
          },
          "metadata": {},
          "execution_count": 56
        }
      ]
    },
    {
      "cell_type": "code",
      "source": [
        "digits ='0123456789'"
      ],
      "metadata": {
        "id": "AMHPuW-lXDoe"
      },
      "execution_count": null,
      "outputs": []
    },
    {
      "cell_type": "code",
      "source": [
        "digits[5]"
      ],
      "metadata": {
        "colab": {
          "base_uri": "https://localhost:8080/",
          "height": 36
        },
        "id": "1_U-v2kzXJu9",
        "outputId": "9a161df1-fee4-4ce4-e4ef-7cdaa16f340d"
      },
      "execution_count": null,
      "outputs": [
        {
          "output_type": "execute_result",
          "data": {
            "text/plain": [
              "'5'"
            ],
            "application/vnd.google.colaboratory.intrinsic+json": {
              "type": "string"
            }
          },
          "metadata": {},
          "execution_count": 37
        }
      ]
    },
    {
      "cell_type": "code",
      "source": [
        "15//10"
      ],
      "metadata": {
        "colab": {
          "base_uri": "https://localhost:8080/"
        },
        "id": "lT5mHl2dXTgf",
        "outputId": "e4275e5c-97fe-435e-9e5f-a984c636a16b"
      },
      "execution_count": null,
      "outputs": [
        {
          "output_type": "execute_result",
          "data": {
            "text/plain": [
              "1"
            ]
          },
          "metadata": {},
          "execution_count": 60
        }
      ]
    },
    {
      "cell_type": "code",
      "source": [
        "15%10"
      ],
      "metadata": {
        "colab": {
          "base_uri": "https://localhost:8080/"
        },
        "id": "_0WG9vL6XxUj",
        "outputId": "46a9c10b-364d-4f3d-c77e-0f8f53bad246"
      },
      "execution_count": null,
      "outputs": [
        {
          "output_type": "execute_result",
          "data": {
            "text/plain": [
              "5"
            ]
          },
          "metadata": {},
          "execution_count": 59
        }
      ]
    },
    {
      "cell_type": "code",
      "source": [
        "'1'+'2'"
      ],
      "metadata": {
        "colab": {
          "base_uri": "https://localhost:8080/",
          "height": 36
        },
        "id": "zOGNBviaYBQc",
        "outputId": "e7134762-faef-4f92-e340-6508816bbf44"
      },
      "execution_count": null,
      "outputs": [
        {
          "output_type": "execute_result",
          "data": {
            "text/plain": [
              "'12'"
            ],
            "application/vnd.google.colaboratory.intrinsic+json": {
              "type": "string"
            }
          },
          "metadata": {},
          "execution_count": 40
        }
      ]
    },
    {
      "cell_type": "code",
      "source": [
        "i=10\n",
        "result = 1\n",
        "while i >0:\n",
        "  result = result +i\n",
        "  i =i//10\n",
        "  print(result)"
      ],
      "metadata": {
        "colab": {
          "base_uri": "https://localhost:8080/"
        },
        "id": "XXnJwBaBZO8q",
        "outputId": "d3017037-26f2-4848-e2bc-741553ba7b34"
      },
      "execution_count": null,
      "outputs": [
        {
          "output_type": "stream",
          "name": "stdout",
          "text": [
            "11\n",
            "12\n"
          ]
        }
      ]
    },
    {
      "cell_type": "code",
      "source": [
        "n = 1000\n",
        "i=0\n",
        "j=2\n",
        "k=0\n",
        "#2,4,8(when n=10)\n",
        "#2,4,8,16,32,64(when n=100)\n",
        "#2,4,8,16,32,64,128,256,512,(when n=1000)\n",
        "\"\"\"for(i=n/2;i<=n;i++){\n",
        "    for(j=2;j<=n;j=j*2){\n",
        "        k=k +n/2\n",
        "    }\n",
        "}\"\"\"\n",
        "\n",
        "for i in range(int(n/2),n+1):\n",
        "  for j in range(2,n+1,2*j):\n",
        "    k=k+n/2\n",
        "\n"
      ],
      "metadata": {
        "id": "X93oTmONaK7P"
      },
      "execution_count": null,
      "outputs": []
    },
    {
      "cell_type": "code",
      "source": [
        "L = [1,2,3,4,5]\n",
        "\n",
        "for i in range(0, len(L)):\n",
        "  for j in range(i+1, len(L)):\n",
        "    print('{},{}'. format(L[i],L[j]))"
      ],
      "metadata": {
        "colab": {
          "base_uri": "https://localhost:8080/"
        },
        "id": "BZyNGjhRqK0G",
        "outputId": "3cf7edc2-6fa4-4b26-decd-ca015949adba"
      },
      "execution_count": null,
      "outputs": [
        {
          "output_type": "stream",
          "name": "stdout",
          "text": [
            "1,2\n",
            "1,3\n",
            "1,4\n",
            "1,5\n",
            "2,3\n",
            "2,4\n",
            "2,5\n",
            "3,4\n",
            "3,5\n",
            "4,5\n"
          ]
        }
      ]
    },
    {
      "cell_type": "code",
      "source": [
        "A = [1,2,3,4]\n",
        "B= [2,3,4,5,6]\n",
        "\n",
        "for i in A:\n",
        "  for j in B:\n",
        "    if i<j:\n",
        "      print('({},{})'.format(i,j))"
      ],
      "metadata": {
        "colab": {
          "base_uri": "https://localhost:8080/"
        },
        "id": "QscKqT-fLTjT",
        "outputId": "40b9007f-70ac-453f-fca2-9046863aec8d"
      },
      "execution_count": null,
      "outputs": [
        {
          "output_type": "stream",
          "name": "stdout",
          "text": [
            "(1,2)\n",
            "(1,3)\n",
            "(1,4)\n",
            "(1,5)\n",
            "(1,6)\n",
            "(2,3)\n",
            "(2,4)\n",
            "(2,5)\n",
            "(2,6)\n",
            "(3,4)\n",
            "(3,5)\n",
            "(3,6)\n",
            "(4,5)\n",
            "(4,6)\n"
          ]
        }
      ]
    },
    {
      "cell_type": "code",
      "source": [
        "A = [1,2,3,4]\n",
        "B = [2,3,4,5]\n",
        "\n",
        "for i in A:\n",
        "  for j in B:\n",
        "    for k in range(2):\n",
        "      print('{},{}'.format(i,j))"
      ],
      "metadata": {
        "colab": {
          "base_uri": "https://localhost:8080/"
        },
        "id": "n2Y_wexTN1Ls",
        "outputId": "556ec739-a5d4-4226-a85c-a49899567566"
      },
      "execution_count": null,
      "outputs": [
        {
          "output_type": "stream",
          "name": "stdout",
          "text": [
            "1,2\n",
            "1,2\n",
            "1,3\n",
            "1,3\n",
            "1,4\n",
            "1,4\n",
            "1,5\n",
            "1,5\n",
            "2,2\n",
            "2,2\n",
            "2,3\n",
            "2,3\n",
            "2,4\n",
            "2,4\n",
            "2,5\n",
            "2,5\n",
            "3,2\n",
            "3,2\n",
            "3,3\n",
            "3,3\n",
            "3,4\n",
            "3,4\n",
            "3,5\n",
            "3,5\n",
            "4,2\n",
            "4,2\n",
            "4,3\n",
            "4,3\n",
            "4,4\n",
            "4,4\n",
            "4,5\n",
            "4,5\n"
          ]
        }
      ]
    },
    {
      "cell_type": "code",
      "source": [
        "L = [1,2,3,4,5]\n",
        "\n",
        "for i in range(0,len(L)//2):\n",
        "  other = len(L)-i-1\n",
        "  temp = L[i]\n",
        "  L[i]=L[other]\n",
        "  L[other]= temp\n",
        "\n",
        "print(L)"
      ],
      "metadata": {
        "colab": {
          "base_uri": "https://localhost:8080/"
        },
        "id": "H5DOLSuTP0H1",
        "outputId": "bc879739-816d-463b-bf59-25e3202ab935"
      },
      "execution_count": null,
      "outputs": [
        {
          "output_type": "stream",
          "name": "stdout",
          "text": [
            "[5, 4, 3, 2, 1]\n"
          ]
        }
      ]
    },
    {
      "cell_type": "code",
      "source": [
        "5//2"
      ],
      "metadata": {
        "colab": {
          "base_uri": "https://localhost:8080/"
        },
        "id": "v-b-ZSA4VAEN",
        "outputId": "80f8ecd1-face-49f7-c04e-c3f818d36880"
      },
      "execution_count": null,
      "outputs": [
        {
          "output_type": "execute_result",
          "data": {
            "text/plain": [
              "2"
            ]
          },
          "metadata": {},
          "execution_count": 81
        }
      ]
    },
    {
      "cell_type": "code",
      "source": [
        "t =range(0,len(L)//2)\n",
        "for i in t:\n",
        " print(i)"
      ],
      "metadata": {
        "colab": {
          "base_uri": "https://localhost:8080/"
        },
        "id": "hAoXKJobVBmv",
        "outputId": "305d4ccc-f666-4bcb-a5a8-f2dacf655fad"
      },
      "execution_count": null,
      "outputs": [
        {
          "output_type": "stream",
          "name": "stdout",
          "text": [
            "0\n",
            "1\n"
          ]
        }
      ]
    },
    {
      "cell_type": "code",
      "source": [
        "#Recursion\n",
        "\n",
        "def factorial(n):\n",
        "  if n==1:\n",
        "    return 1\n",
        "  else:\n",
        "    return n*factorial(n-1)\n",
        "\n",
        "print(factorial(5))"
      ],
      "metadata": {
        "colab": {
          "base_uri": "https://localhost:8080/"
        },
        "id": "mzs3n745akSJ",
        "outputId": "6a4c1d4d-6c43-417a-bf55-5512946b5da5"
      },
      "execution_count": null,
      "outputs": [
        {
          "output_type": "stream",
          "name": "stdout",
          "text": [
            "120\n"
          ]
        }
      ]
    },
    {
      "cell_type": "code",
      "source": [
        "def fib(n):\n",
        "  if n==1 or n==0:\n",
        "    return 1\n",
        "  else:\n",
        "    return fib(n-1) + fib(n-2)"
      ],
      "metadata": {
        "id": "6CgNlVd9buuJ"
      },
      "execution_count": null,
      "outputs": []
    },
    {
      "cell_type": "code",
      "source": [
        "fib(5)"
      ],
      "metadata": {
        "colab": {
          "base_uri": "https://localhost:8080/"
        },
        "id": "IcJ7NtGofAHB",
        "outputId": "e097fa76-b067-4634-f470-8acee41fe43e"
      },
      "execution_count": null,
      "outputs": [
        {
          "output_type": "execute_result",
          "data": {
            "text/plain": [
              "8"
            ]
          },
          "metadata": {},
          "execution_count": 90
        }
      ]
    },
    {
      "cell_type": "code",
      "source": [
        "def power(num):\n",
        "  if num<1:\n",
        "    return 0\n",
        "  elif num ==1:\n",
        "    print(1)\n",
        "    return 1\n",
        "  else:\n",
        "    prev = power(num//2)\n",
        "    curr = prev*2\n",
        "    print(curr)\n",
        "    return curr"
      ],
      "metadata": {
        "id": "Ohc8X7DyfCTe"
      },
      "execution_count": null,
      "outputs": []
    },
    {
      "cell_type": "code",
      "source": [
        "power(5)"
      ],
      "metadata": {
        "colab": {
          "base_uri": "https://localhost:8080/"
        },
        "id": "emZYlkIOiRbb",
        "outputId": "03d5aa1d-7b28-4eb1-8b8f-b96675c8903f"
      },
      "execution_count": null,
      "outputs": [
        {
          "output_type": "stream",
          "name": "stdout",
          "text": [
            "1\n",
            "2\n",
            "4\n"
          ]
        },
        {
          "output_type": "execute_result",
          "data": {
            "text/plain": [
              "4"
            ]
          },
          "metadata": {},
          "execution_count": 4
        }
      ]
    },
    {
      "cell_type": "code",
      "source": [
        "def mod(a,b):\n",
        "  if b<=0:\n",
        "    return -1\n",
        "  div=a//b\n",
        "  return a - div*b\n",
        "\n",
        "mod(5,3)"
      ],
      "metadata": {
        "colab": {
          "base_uri": "https://localhost:8080/"
        },
        "id": "eoK7YhMTiTCT",
        "outputId": "1aa66a8f-2386-4c55-bd46-53c0eb1a075e"
      },
      "execution_count": null,
      "outputs": [
        {
          "output_type": "execute_result",
          "data": {
            "text/plain": [
              "2"
            ]
          },
          "metadata": {},
          "execution_count": 6
        }
      ]
    },
    {
      "cell_type": "code",
      "source": [
        "def sum_digits(num):\n",
        "  sum =0\n",
        "  while(num>0):\n",
        "    sum += num%10\n",
        "    num//=10\n",
        "\n",
        "  return sum"
      ],
      "metadata": {
        "id": "TEdy9-xZCCk-"
      },
      "execution_count": 10,
      "outputs": []
    },
    {
      "cell_type": "code",
      "source": [
        "sum_digits(123)"
      ],
      "metadata": {
        "colab": {
          "base_uri": "https://localhost:8080/"
        },
        "id": "bcclJZGUkLjC",
        "outputId": "9395b94f-1b54-4cfd-dcc3-15fa27dbd597"
      },
      "execution_count": 11,
      "outputs": [
        {
          "output_type": "execute_result",
          "data": {
            "text/plain": [
              "6"
            ]
          },
          "metadata": {},
          "execution_count": 11
        }
      ]
    },
    {
      "cell_type": "code",
      "source": [],
      "metadata": {
        "id": "kukENQsPuoCR"
      },
      "execution_count": null,
      "outputs": []
    }
  ]
}