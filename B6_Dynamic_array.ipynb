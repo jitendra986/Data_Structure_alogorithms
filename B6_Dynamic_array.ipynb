{
  "nbformat": 4,
  "nbformat_minor": 0,
  "metadata": {
    "colab": {
      "provenance": [],
      "toc_visible": true,
      "authorship_tag": "ABX9TyPjM70rE3iOpijtAUVJgQRK",
      "include_colab_link": true
    },
    "kernelspec": {
      "name": "python3",
      "display_name": "Python 3"
    },
    "language_info": {
      "name": "python"
    }
  },
  "cells": [
    {
      "cell_type": "markdown",
      "metadata": {
        "id": "view-in-github",
        "colab_type": "text"
      },
      "source": [
        "<a href=\"https://colab.research.google.com/github/jitendra986/Data_Structure_alogorithms/blob/main/B6_Dynamic_array.ipynb\" target=\"_parent\"><img src=\"https://colab.research.google.com/assets/colab-badge.svg\" alt=\"Open In Colab\"/></a>"
      ]
    },
    {
      "cell_type": "code",
      "execution_count": null,
      "metadata": {
        "id": "mWKJ_wcMHIXi"
      },
      "outputs": [],
      "source": [
        "import sys"
      ]
    },
    {
      "cell_type": "code",
      "source": [
        "L=[]\n",
        "\n",
        "sys.getsizeof(L)"
      ],
      "metadata": {
        "colab": {
          "base_uri": "https://localhost:8080/"
        },
        "id": "P48ZwHDeHV8k",
        "outputId": "bd620846-28cc-4794-8dd8-743f876161e4"
      },
      "execution_count": null,
      "outputs": [
        {
          "output_type": "execute_result",
          "data": {
            "text/plain": [
              "56"
            ]
          },
          "metadata": {},
          "execution_count": 2
        }
      ]
    },
    {
      "cell_type": "code",
      "source": [
        "L.append(4)"
      ],
      "metadata": {
        "id": "mLeRmMA_HajT"
      },
      "execution_count": null,
      "outputs": []
    },
    {
      "cell_type": "code",
      "source": [
        "L"
      ],
      "metadata": {
        "colab": {
          "base_uri": "https://localhost:8080/"
        },
        "id": "9tTL1N2fHfkx",
        "outputId": "1dcfa2f8-bc16-4294-e8e2-77435a163691"
      },
      "execution_count": null,
      "outputs": [
        {
          "output_type": "execute_result",
          "data": {
            "text/plain": [
              "['hello', 'world', 1, 2, 3, 4]"
            ]
          },
          "metadata": {},
          "execution_count": 19
        }
      ]
    },
    {
      "cell_type": "code",
      "source": [
        "sys.getsizeof(L)"
      ],
      "metadata": {
        "colab": {
          "base_uri": "https://localhost:8080/"
        },
        "id": "8zqoTYoPHgiT",
        "outputId": "924ae6e7-6cbf-49df-adbc-26c39cfe245f"
      },
      "execution_count": null,
      "outputs": [
        {
          "output_type": "execute_result",
          "data": {
            "text/plain": [
              "120"
            ]
          },
          "metadata": {},
          "execution_count": 20
        }
      ]
    },
    {
      "cell_type": "code",
      "source": [
        "L=[]\n",
        "\n",
        "for i in range(50):\n",
        "  print(i,sys.getsizeof(L))\n",
        "  L.append(i)"
      ],
      "metadata": {
        "colab": {
          "base_uri": "https://localhost:8080/"
        },
        "id": "7lYUVQyaHlAL",
        "outputId": "c773a9ba-4177-477b-d040-fa593442e296"
      },
      "execution_count": null,
      "outputs": [
        {
          "output_type": "stream",
          "name": "stdout",
          "text": [
            "0 56\n",
            "1 88\n",
            "2 88\n",
            "3 88\n",
            "4 88\n",
            "5 120\n",
            "6 120\n",
            "7 120\n",
            "8 120\n",
            "9 184\n",
            "10 184\n",
            "11 184\n",
            "12 184\n",
            "13 184\n",
            "14 184\n",
            "15 184\n",
            "16 184\n",
            "17 248\n",
            "18 248\n",
            "19 248\n",
            "20 248\n",
            "21 248\n",
            "22 248\n",
            "23 248\n",
            "24 248\n",
            "25 312\n",
            "26 312\n",
            "27 312\n",
            "28 312\n",
            "29 312\n",
            "30 312\n",
            "31 312\n",
            "32 312\n",
            "33 376\n",
            "34 376\n",
            "35 376\n",
            "36 376\n",
            "37 376\n",
            "38 376\n",
            "39 376\n",
            "40 376\n",
            "41 472\n",
            "42 472\n",
            "43 472\n",
            "44 472\n",
            "45 472\n",
            "46 472\n",
            "47 472\n",
            "48 472\n",
            "49 472\n"
          ]
        }
      ]
    },
    {
      "cell_type": "markdown",
      "source": [
        "### Example to write a program exactly like python list which behave dynamically."
      ],
      "metadata": {
        "id": "0rmTWnAXL7Nv"
      }
    },
    {
      "cell_type": "code",
      "source": [
        "import ctypes\n",
        "#ctypes is a foreign function library for Python. It provides C compatible data types, and allows calling functions in DLLs or shared libraries.\n",
        "#It can be used to wrap these libraries in pure Python. it will help us to make dynamic array class via using C data types. I will use C array to make python list functionality."
      ],
      "metadata": {
        "id": "F9Qz_Xh8L9JX"
      },
      "execution_count": 1,
      "outputs": []
    },
    {
      "cell_type": "code",
      "source": [
        "class MeraList:\n",
        "  def __init__(self):\n",
        "    self.size =1 #size represents the size of array\n",
        "    self.n =0 # n represents number of data stored in a given array of size self.size\n",
        "\n",
        "    #create a C type array with size = self.size\n",
        "    self.A=self.__make_array(self.size)\n",
        "\n",
        "\n",
        "  def __make_array(self, capacity):\n",
        "    #creates a C type array(static & referential in nature) with size capacity\n",
        "    return (capacity*ctypes.py_object)()\n",
        "\n",
        "  def __len__(self):\n",
        "    return self.n\n",
        "  def __add__(self):\n",
        "    return\n",
        "  def __str__(self):\n",
        "    #[1,2,'hello',5.4]\n",
        "    result = ''\n",
        "    for i in range(self.n):\n",
        "      result = result + str(self.A[i])+','\n",
        "    return '['+result[:-1]+']'\n",
        "  def __getitem__(self, index):\n",
        "    if 0<=index<self.n:\n",
        "      return self.A[index]\n",
        "    else:\n",
        "      return 'IndexError - Index out of range'\n",
        "\n",
        "  def __delitem__(self,pos):\n",
        "    #delete\n",
        "    if 0<=pos<self.n:\n",
        "      for i in range(pos, self.n-1):\n",
        "        self.A[i] = self.A[i+1]\n",
        "      self.n = self.n-1\n",
        "\n",
        "  def append(self, item):\n",
        "    if self.n == self.size:\n",
        "      #resize\n",
        "      self.__resize(self.size*2)\n",
        "    #append,\n",
        "    #why can not i use else statement here?\n",
        "    self.A[self.n] = item\n",
        "    self.n = self.n +1\n",
        "\n",
        "  \"\"\"def extend(self,list_):\n",
        "    self.A = list_.extend(self.A)\n",
        "\"\"\"\n",
        "  def pop(self):\n",
        "    if self.n==0:\n",
        "      return 'Empty List'\n",
        "    self.n = self.n -1\n",
        "    print(self.A[self.n-1])\n",
        "    self.n = self.n -1\n",
        "    #return self.A[:-1]\n",
        "  def clear(self):\n",
        "    self.n =0\n",
        "    self.size =1\n",
        "  def max(self):\n",
        "    max= self.A[0]\n",
        "    for i in range(self.n):\n",
        "      if self.A[i]>max:\n",
        "        max = self.A[i]\n",
        "    return max\n",
        "\n",
        "  def min(self):\n",
        "    min= self.A[0]\n",
        "    for i in range(self.n):\n",
        "      if self.A[i]<min:\n",
        "        min = self.A[i]\n",
        "    return min\n",
        "  def sort(self):\n",
        "    if not self.A:\n",
        "      return self.A\n",
        "\n",
        "    for i in range(self.n):\n",
        "      min_i = i\n",
        "      for j in range(i+1,self.n):\n",
        "        if self.A[j]<self.A[min_i]:\n",
        "          min_i=j\n",
        "      self.A[i], self.A[min_i]= self.A[min_i],self.A[i]\n",
        "\n",
        "  def sum(self):\n",
        "    sum=0\n",
        "    for i in range(self.n):\n",
        "      sum = sum + self.A[i]\n",
        "    return sum\n",
        "\n",
        "  def find(self, item):\n",
        "    for i in range(self.n):\n",
        "      if self.A[i]==item:\n",
        "        return i\n",
        "\n",
        "    return 'ValueError- not in List'\n",
        "  def insert(self,pos,item):\n",
        "    if self.n==self.size:\n",
        "      self.__resize(self.size*2)\n",
        "    for i in range(self.n,pos,-1):\n",
        "      self.A[i]=self.A[i-1]\n",
        "\n",
        "    self.A[pos]=item\n",
        "    self.n=self.n+1\n",
        "  def remove(self, item):\n",
        "    pos = self.find(item)\n",
        "    if type(pos)==int:\n",
        "      #delete\n",
        "      return self.__delitem__(pos)\n",
        "    else:\n",
        "      return pos\n",
        "  def __resize(self, new_capacity):\n",
        "    #create a new array with new capacity\n",
        "    B= self.__make_array(new_capacity)\n",
        "    self.size = new_capacity\n",
        "    # copy the content of A to B\n",
        "    for i in range(self.n):\n",
        "      B[i] = self.A[i]\n",
        "    #reassign A\n",
        "    self.A = B\n",
        "\n",
        "\n",
        "\n"
      ],
      "metadata": {
        "id": "UzWf7FFaVs8t"
      },
      "execution_count": 3,
      "outputs": []
    },
    {
      "cell_type": "code",
      "source": [
        "L = MeraList()\n",
        "B=MeraList()"
      ],
      "metadata": {
        "id": "AVr1WfViXzd-"
      },
      "execution_count": 4,
      "outputs": []
    },
    {
      "cell_type": "code",
      "source": [
        "#L.append('hello')\n",
        "#L.append(3.4)\n",
        "#L.append(True)\n",
        "#L.append(100)\n",
        "\n",
        "L.append(4)\n",
        "L.append(5)\n",
        "L.append(6)\n",
        "L.append(9)\n",
        "L.append(3)"
      ],
      "metadata": {
        "id": "-KbNSHodX5TF"
      },
      "execution_count": 5,
      "outputs": []
    },
    {
      "cell_type": "code",
      "source": [
        "#B=[45,12,14]\n",
        "#L.append(B)"
      ],
      "metadata": {
        "id": "Bxk-ylBFYDMg"
      },
      "execution_count": 6,
      "outputs": []
    },
    {
      "cell_type": "code",
      "source": [
        "print(L)"
      ],
      "metadata": {
        "colab": {
          "base_uri": "https://localhost:8080/"
        },
        "id": "Yd8iX5dLB3K1",
        "outputId": "8cc6898f-dadc-4026-f00d-39b35f93d1f7"
      },
      "execution_count": 7,
      "outputs": [
        {
          "output_type": "stream",
          "name": "stdout",
          "text": [
            "[4,5,6,9,3]\n"
          ]
        }
      ]
    },
    {
      "cell_type": "code",
      "source": [
        "B.append(14)\n",
        "B.append(52)\n",
        "B.append(26)\n"
      ],
      "metadata": {
        "id": "zGXKUGVKdvVZ"
      },
      "execution_count": 8,
      "outputs": []
    },
    {
      "cell_type": "code",
      "source": [
        "print(B)"
      ],
      "metadata": {
        "colab": {
          "base_uri": "https://localhost:8080/"
        },
        "id": "8uwUKN-GCtAb",
        "outputId": "2a985e40-3043-4bdf-acc8-24e6705b4f08"
      },
      "execution_count": 9,
      "outputs": [
        {
          "output_type": "stream",
          "name": "stdout",
          "text": [
            "[14,52,26]\n"
          ]
        }
      ]
    },
    {
      "cell_type": "code",
      "source": [
        "L = MeraList()\n",
        "B=MeraList()"
      ],
      "metadata": {
        "id": "NuF1TtySCsI_"
      },
      "execution_count": 94,
      "outputs": []
    },
    {
      "cell_type": "code",
      "source": [
        "L.append(4)\n",
        "L.append(5)\n",
        "L.append(6)\n",
        "L.append(9)\n",
        "L.append(3)"
      ],
      "metadata": {
        "id": "F39z_Pw_LiN9"
      },
      "execution_count": 95,
      "outputs": []
    },
    {
      "cell_type": "code",
      "source": [
        "print(L)"
      ],
      "metadata": {
        "id": "cpfgqSzBeGwA",
        "colab": {
          "base_uri": "https://localhost:8080/"
        },
        "outputId": "cd0cedf5-e15a-4065-dfb3-628f540465bc"
      },
      "execution_count": 96,
      "outputs": [
        {
          "output_type": "stream",
          "name": "stdout",
          "text": [
            "<__main__.MeraList object at 0x79a13dca8280>\n"
          ]
        }
      ]
    },
    {
      "cell_type": "code",
      "source": [
        "B.append(14)\n",
        "B.append(1)\n",
        "B.append(24)\n",
        "B.append(16)\n",
        "B.append(4)"
      ],
      "metadata": {
        "id": "7gIi3ffTL6iO"
      },
      "execution_count": 91,
      "outputs": []
    },
    {
      "cell_type": "code",
      "source": [
        "print(B)"
      ],
      "metadata": {
        "colab": {
          "base_uri": "https://localhost:8080/"
        },
        "id": "ei_Zvm4lMkRd",
        "outputId": "6a186582-0fec-4846-9816-d7f5b21aadea"
      },
      "execution_count": 92,
      "outputs": [
        {
          "output_type": "stream",
          "name": "stdout",
          "text": [
            "<__main__.MeraList object at 0x79a13dcaada0>\n"
          ]
        }
      ]
    },
    {
      "cell_type": "code",
      "source": [],
      "metadata": {
        "id": "fGw9L9euN1Iv"
      },
      "execution_count": null,
      "outputs": []
    }
  ]
}