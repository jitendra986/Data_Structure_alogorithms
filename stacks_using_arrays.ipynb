{
  "nbformat": 4,
  "nbformat_minor": 0,
  "metadata": {
    "colab": {
      "provenance": [],
      "authorship_tag": "ABX9TyMs0QiAUcR5pEdisQqlTcyO",
      "include_colab_link": true
    },
    "kernelspec": {
      "name": "python3",
      "display_name": "Python 3"
    },
    "language_info": {
      "name": "python"
    }
  },
  "cells": [
    {
      "cell_type": "markdown",
      "metadata": {
        "id": "view-in-github",
        "colab_type": "text"
      },
      "source": [
        "<a href=\"https://colab.research.google.com/github/jitendra986/Data_Structure_alogorithms/blob/main/stacks_using_arrays.ipynb\" target=\"_parent\"><img src=\"https://colab.research.google.com/assets/colab-badge.svg\" alt=\"Open In Colab\"/></a>"
      ]
    },
    {
      "cell_type": "code",
      "execution_count": 1,
      "metadata": {
        "id": "KWgpMf6E-Q4Q"
      },
      "outputs": [],
      "source": [
        "L = [1,2,3,4]"
      ]
    },
    {
      "cell_type": "code",
      "source": [
        "L"
      ],
      "metadata": {
        "colab": {
          "base_uri": "https://localhost:8080/"
        },
        "id": "fbw_zjjBHGnU",
        "outputId": "95a8de13-79b7-4c74-d2a5-6407d6a3b43d"
      },
      "execution_count": 2,
      "outputs": [
        {
          "output_type": "execute_result",
          "data": {
            "text/plain": [
              "[1, 2, 3, 4]"
            ]
          },
          "metadata": {},
          "execution_count": 2
        }
      ]
    },
    {
      "cell_type": "code",
      "source": [
        "L.append(5)"
      ],
      "metadata": {
        "id": "LwTOVdUjHJNm"
      },
      "execution_count": 3,
      "outputs": []
    },
    {
      "cell_type": "code",
      "source": [
        "L"
      ],
      "metadata": {
        "colab": {
          "base_uri": "https://localhost:8080/"
        },
        "id": "aWzbBLtAHLoV",
        "outputId": "7d7d7ab1-0197-4091-b7eb-07b521a8e296"
      },
      "execution_count": 4,
      "outputs": [
        {
          "output_type": "execute_result",
          "data": {
            "text/plain": [
              "[1, 2, 3, 4, 5]"
            ]
          },
          "metadata": {},
          "execution_count": 4
        }
      ]
    },
    {
      "cell_type": "code",
      "source": [
        "L.pop()"
      ],
      "metadata": {
        "colab": {
          "base_uri": "https://localhost:8080/"
        },
        "id": "DE-Wwl6SHMqZ",
        "outputId": "5418382d-8e6d-47f8-9748-f96ee6f72f10"
      },
      "execution_count": 5,
      "outputs": [
        {
          "output_type": "execute_result",
          "data": {
            "text/plain": [
              "5"
            ]
          },
          "metadata": {},
          "execution_count": 5
        }
      ]
    },
    {
      "cell_type": "code",
      "source": [
        "L"
      ],
      "metadata": {
        "colab": {
          "base_uri": "https://localhost:8080/"
        },
        "id": "1xjGb34RHPl4",
        "outputId": "d293dbad-863f-4f33-bf1a-957a7aa03727"
      },
      "execution_count": 6,
      "outputs": [
        {
          "output_type": "execute_result",
          "data": {
            "text/plain": [
              "[1, 2, 3, 4]"
            ]
          },
          "metadata": {},
          "execution_count": 6
        }
      ]
    },
    {
      "cell_type": "code",
      "source": [
        "L[-1]"
      ],
      "metadata": {
        "colab": {
          "base_uri": "https://localhost:8080/"
        },
        "id": "_0rZTt4mHQhN",
        "outputId": "b4ed610c-9c8c-458a-faff-6649dbaab804"
      },
      "execution_count": 7,
      "outputs": [
        {
          "output_type": "execute_result",
          "data": {
            "text/plain": [
              "4"
            ]
          },
          "metadata": {},
          "execution_count": 7
        }
      ]
    },
    {
      "cell_type": "code",
      "source": [
        "class Stack:\n",
        "\n",
        "  def __init__(self,size):\n",
        "    self.size = size\n",
        "    self.__stack = [None]*self.size\n",
        "    self.top=-1\n",
        "\n",
        "  def push(self,value):\n",
        "    if self.top == self.size-1:\n",
        "      return 'Overflow'\n",
        "    else:\n",
        "      self.top+=1\n",
        "      self.__stack[self.top] = value\n",
        "\n",
        "  def pop(self):\n",
        "    if self.top==-1:\n",
        "      return \"Empty Stack\"\n",
        "\n",
        "    else:\n",
        "      data=self.__stack[self.top]\n",
        "      self.top-=1\n",
        "      print(data)\n",
        "\n",
        "  def traverse(self):\n",
        "    #self.top=2\n",
        "    for i in range(self.top+1):\n",
        "      print(self.__stack[i], end=' ')\n",
        "\n"
      ],
      "metadata": {
        "id": "mgRzZDLTHbUP"
      },
      "execution_count": 69,
      "outputs": []
    },
    {
      "cell_type": "code",
      "source": [
        "s = Stack(3)"
      ],
      "metadata": {
        "id": "zRIPuO3UIWdS"
      },
      "execution_count": 70,
      "outputs": []
    },
    {
      "cell_type": "code",
      "source": [
        "s.push(9)"
      ],
      "metadata": {
        "id": "29W_PTtGIc_n"
      },
      "execution_count": 77,
      "outputs": []
    },
    {
      "cell_type": "code",
      "source": [
        "s.traverse()"
      ],
      "metadata": {
        "colab": {
          "base_uri": "https://localhost:8080/"
        },
        "id": "zEoAecz8tBc3",
        "outputId": "c07b9b8f-201d-4538-d7a5-17cf59f49c4a"
      },
      "execution_count": 80,
      "outputs": [
        {
          "output_type": "stream",
          "name": "stdout",
          "text": [
            "7 8 "
          ]
        }
      ]
    },
    {
      "cell_type": "code",
      "source": [
        "s.pop()"
      ],
      "metadata": {
        "colab": {
          "base_uri": "https://localhost:8080/"
        },
        "id": "W21BR9-augIJ",
        "outputId": "f0c9892a-9263-4a9d-dcae-33a33eaec4b7"
      },
      "execution_count": 79,
      "outputs": [
        {
          "output_type": "stream",
          "name": "stdout",
          "text": [
            "9\n"
          ]
        }
      ]
    },
    {
      "cell_type": "code",
      "source": [],
      "metadata": {
        "id": "h5r7wpt8vR0Y"
      },
      "execution_count": null,
      "outputs": []
    }
  ]
}