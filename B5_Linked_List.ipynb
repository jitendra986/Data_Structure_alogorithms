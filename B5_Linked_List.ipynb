{
  "nbformat": 4,
  "nbformat_minor": 0,
  "metadata": {
    "colab": {
      "provenance": [],
      "authorship_tag": "ABX9TyPJ3dKZIooIIB8yVM0q8qcr",
      "include_colab_link": true
    },
    "kernelspec": {
      "name": "python3",
      "display_name": "Python 3"
    },
    "language_info": {
      "name": "python"
    }
  },
  "cells": [
    {
      "cell_type": "markdown",
      "metadata": {
        "id": "view-in-github",
        "colab_type": "text"
      },
      "source": [
        "<a href=\"https://colab.research.google.com/github/jitendra986/Data_Structure_alogorithms/blob/main/B5_Linked_List.ipynb\" target=\"_parent\"><img src=\"https://colab.research.google.com/assets/colab-badge.svg\" alt=\"Open In Colab\"/></a>"
      ]
    },
    {
      "cell_type": "code",
      "execution_count": null,
      "metadata": {
        "id": "1AgYVQwCVDjT"
      },
      "outputs": [],
      "source": [
        "class Node:\n",
        "  def __init__(self,value):\n",
        "    self.data = value\n",
        "    self.next = None"
      ]
    },
    {
      "cell_type": "code",
      "source": [
        "a = Node(1)\n",
        "b = Node(2)\n",
        "c=Node(3)"
      ],
      "metadata": {
        "id": "MKc8xxkZVzRT"
      },
      "execution_count": null,
      "outputs": []
    },
    {
      "cell_type": "code",
      "source": [
        "print(b.data)"
      ],
      "metadata": {
        "colab": {
          "base_uri": "https://localhost:8080/"
        },
        "id": "kBCYARKWV3Er",
        "outputId": "bb103725-d08e-4b45-c117-ce3abac82a0d"
      },
      "execution_count": null,
      "outputs": [
        {
          "output_type": "stream",
          "name": "stdout",
          "text": [
            "2\n"
          ]
        }
      ]
    },
    {
      "cell_type": "code",
      "source": [
        "a.next = b\n",
        "b.next = c"
      ],
      "metadata": {
        "id": "kPz1JrWqV4Wp"
      },
      "execution_count": null,
      "outputs": []
    },
    {
      "cell_type": "code",
      "source": [
        "print(a.next)"
      ],
      "metadata": {
        "colab": {
          "base_uri": "https://localhost:8080/"
        },
        "id": "MI6PPre9We0O",
        "outputId": "b7c2ff57-f4f3-4fa9-e74b-ffc1afbc55c5"
      },
      "execution_count": null,
      "outputs": [
        {
          "output_type": "stream",
          "name": "stdout",
          "text": [
            "<__main__.Node object at 0x7c0922f65180>\n"
          ]
        }
      ]
    },
    {
      "cell_type": "code",
      "source": [
        "int(0x7c09552c39a0)"
      ],
      "metadata": {
        "colab": {
          "base_uri": "https://localhost:8080/"
        },
        "id": "oTdD42adXY3E",
        "outputId": "53010093-57fd-4fb2-a3d4-d4b14b269f9d"
      },
      "execution_count": null,
      "outputs": [
        {
          "output_type": "execute_result",
          "data": {
            "text/plain": [
              "136379525511584"
            ]
          },
          "metadata": {},
          "execution_count": 51
        }
      ]
    },
    {
      "cell_type": "code",
      "source": [
        "class Node:\n",
        "  def __init__(self,value):\n",
        "    self.data = value\n",
        "    self.next = None"
      ],
      "metadata": {
        "id": "jMK6QVHkXfaO"
      },
      "execution_count": 1,
      "outputs": []
    },
    {
      "cell_type": "code",
      "source": [
        "class LinkedList:\n",
        "  def __init__(self):\n",
        "\n",
        "    #Empty Linked List\n",
        "    self.head = None\n",
        "    # counter to count number of nodes in Linked-List\n",
        "    self.n = 0\n",
        "\n",
        "  def __len__(self):\n",
        "    return self.n\n",
        "\n",
        "  #insert method to insert value in head\n",
        "  def insert_head(self, value):\n",
        "    #new node\n",
        "    new_node = Node(value)\n",
        "\n",
        "    # create connection\n",
        "    new_node.next=self.head\n",
        "    # reassign head\n",
        "    self.head = new_node\n",
        "\n",
        "\n",
        "    #increment n\n",
        "    self.n = self.n + 1\n",
        "\n",
        "  \"\"\"def traverse(self):\n",
        "    curr = self.head\n",
        "\n",
        "    while curr != None:\n",
        "      print(curr.data)\n",
        "      curr=curr.next\n",
        "\"\"\"\n",
        "  def __str__(self):\n",
        "    curr = self.head\n",
        "\n",
        "    result = ''\n",
        "    while curr!= None:\n",
        "      result = result +str(curr.data)+'->'\n",
        "      #str(curr.next)\n",
        "      curr=curr.next\n",
        "\n",
        "    return result[:-2]\n",
        "\n",
        "  def append(self, value):\n",
        "    new_node = Node(value)\n",
        "    if self.head ==None:\n",
        "      self.head = new_node\n",
        "      self.n =self.n+1\n",
        "      return\n",
        "    curr = self.head\n",
        "\n",
        "    while curr.next!= None:\n",
        "      curr = curr.next\n",
        "    #you are at the last node\n",
        "    curr.next = new_node\n",
        "    self.n =self.n+1\n",
        "\n",
        "  def insert_after(self,after,value):\n",
        "    new_node = Node(value)\n",
        "\n",
        "    curr = self.head\n",
        "\n",
        "    while curr !=None:\n",
        "      if curr.data==after:\n",
        "        break\n",
        "      curr=curr.next\n",
        "\n",
        "    #case 1 break --> Item apko mil gaya --> it means curr--> is not None\n",
        "    if curr!= None:\n",
        "      #logic\n",
        "      new_node.next =curr.next\n",
        "      curr.next = new_node\n",
        "      self.n = self.n+1\n",
        "    else:\n",
        "      return 'Item not found'\n",
        "    #case 2 loop pura chala --> item nahi mila --> it means curr--> is None\n",
        "\n",
        "  def clear(self):\n",
        "    self.head= None\n",
        "    self.n =0\n",
        "\n",
        "  def delete_head(self):\n",
        "    if self.head == None:\n",
        "      #empty\n",
        "      return 'Item not found'\n",
        "    self.head = self.head.next\n",
        "    self.n = self.n-1\n",
        "  def pop(self):\n",
        "    if self.head == None:\n",
        "      #empty\n",
        "      return \"Empty LL\"\n",
        "\n",
        "    curr = self.head\n",
        "    # kya linked list me 1 item hai?\n",
        "    if curr.next == None:\n",
        "      # head hi hoga(delete from head)\n",
        "      return self.delete_head()\n",
        "    while curr.next.next!= None:\n",
        "      curr = curr.next\n",
        "\n",
        "    # curr -> 2nd last node\n",
        "    curr.next = None\n",
        "    self.n = self.n-1\n",
        "\n",
        "  def remove(self, value):\n",
        "    if self.head == None:\n",
        "      #empty\n",
        "      return \"Empty LL\"\n",
        "    if self.head.data == value:\n",
        "      #you want to remove the head\n",
        "      return self.delete_head()\n",
        "\n",
        "    curr = self.head\n",
        "\n",
        "    while curr.next != None:\n",
        "      if curr.next.data ==value:\n",
        "        break\n",
        "      curr = curr.next\n",
        "\n",
        "    #2 cases item mil gaya\n",
        "    #item nahi mila\n",
        "\n",
        "    if curr.next ==None:\n",
        "      #item nahi mila\n",
        "      return 'Not Found'\n",
        "    else:\n",
        "      curr.next = curr.next.next\n",
        "\n",
        "  def search(self,item):\n",
        "    curr = self.head\n",
        "\n",
        "    pos =0\n",
        "    while curr!=None:\n",
        "      if curr.data==item:\n",
        "        return pos\n",
        "      curr = curr.next\n",
        "      pos=pos+1\n",
        "\n",
        "    return 'Not found'\n",
        "\n",
        "  def __getitem__(self, index):\n",
        "\n",
        "    curr = self.head\n",
        "    pos = 0\n",
        "\n",
        "    while curr != None:\n",
        "      if pos ==index:\n",
        "        return curr.data\n",
        "      curr = curr.next\n",
        "      pos=pos+1\n",
        "\n",
        "    return 'Index Error'\n",
        "\n",
        "\n",
        "\n",
        "\n",
        "\n",
        "\n"
      ],
      "metadata": {
        "id": "qVepI6zaYTIG"
      },
      "execution_count": 86,
      "outputs": []
    },
    {
      "cell_type": "code",
      "source": [
        "L = LinkedList()"
      ],
      "metadata": {
        "id": "eyo-Ru1HaZcC"
      },
      "execution_count": 87,
      "outputs": []
    },
    {
      "cell_type": "code",
      "source": [
        "L.insert_head(1)\n",
        "L.insert_head(2)\n",
        "L.insert_head(3)\n",
        "L.insert_head(4)"
      ],
      "metadata": {
        "id": "5M48Y235pOx2"
      },
      "execution_count": 88,
      "outputs": []
    },
    {
      "cell_type": "code",
      "source": [
        "print(L)"
      ],
      "metadata": {
        "colab": {
          "base_uri": "https://localhost:8080/"
        },
        "id": "EGENovwtpQaN",
        "outputId": "a8d8ed00-b9cb-40da-bcfd-9b9d1ee752d4"
      },
      "execution_count": 82,
      "outputs": [
        {
          "output_type": "stream",
          "name": "stdout",
          "text": [
            "4->3->2->1\n"
          ]
        }
      ]
    },
    {
      "cell_type": "code",
      "source": [
        "L[10]"
      ],
      "metadata": {
        "id": "4GPRlsCtulta",
        "colab": {
          "base_uri": "https://localhost:8080/",
          "height": 36
        },
        "outputId": "2af544be-7818-40d6-878c-cf35b5e65ff2"
      },
      "execution_count": 89,
      "outputs": [
        {
          "output_type": "execute_result",
          "data": {
            "text/plain": [
              "'Index Error'"
            ],
            "application/vnd.google.colaboratory.intrinsic+json": {
              "type": "string"
            }
          },
          "metadata": {},
          "execution_count": 89
        }
      ]
    },
    {
      "cell_type": "code",
      "source": [
        "print(L)"
      ],
      "metadata": {
        "colab": {
          "base_uri": "https://localhost:8080/"
        },
        "id": "Aii0GLBSQnyO",
        "outputId": "0fe59c3e-4ba8-4a34-e6ce-133dd0bf0d45"
      },
      "execution_count": 71,
      "outputs": [
        {
          "output_type": "stream",
          "name": "stdout",
          "text": [
            "4->3->2->1\n"
          ]
        }
      ]
    },
    {
      "cell_type": "code",
      "source": [
        "L.remove(1)"
      ],
      "metadata": {
        "id": "ZhUjRfs6QpFK",
        "colab": {
          "base_uri": "https://localhost:8080/",
          "height": 36
        },
        "outputId": "335cc689-6df5-493e-b396-94b87410e417"
      },
      "execution_count": 62,
      "outputs": [
        {
          "output_type": "execute_result",
          "data": {
            "text/plain": [
              "'Empty LL'"
            ],
            "application/vnd.google.colaboratory.intrinsic+json": {
              "type": "string"
            }
          },
          "metadata": {},
          "execution_count": 62
        }
      ]
    },
    {
      "cell_type": "code",
      "source": [
        "print(L)"
      ],
      "metadata": {
        "colab": {
          "base_uri": "https://localhost:8080/"
        },
        "id": "WojoQweBJ13_",
        "outputId": "487185dd-a3d6-43f5-cd19-8f504dc83f33"
      },
      "execution_count": 63,
      "outputs": [
        {
          "output_type": "stream",
          "name": "stdout",
          "text": [
            "\n"
          ]
        }
      ]
    },
    {
      "cell_type": "code",
      "source": [],
      "metadata": {
        "id": "qNgkjSAvJ3hi"
      },
      "execution_count": null,
      "outputs": []
    }
  ]
}