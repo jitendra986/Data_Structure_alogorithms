{
  "nbformat": 4,
  "nbformat_minor": 0,
  "metadata": {
    "colab": {
      "provenance": [],
      "authorship_tag": "ABX9TyPomAJaQPawYdJ/eXic8ugO",
      "include_colab_link": true
    },
    "kernelspec": {
      "name": "python3",
      "display_name": "Python 3"
    },
    "language_info": {
      "name": "python"
    }
  },
  "cells": [
    {
      "cell_type": "markdown",
      "metadata": {
        "id": "view-in-github",
        "colab_type": "text"
      },
      "source": [
        "<a href=\"https://colab.research.google.com/github/jitendra986/Data_Structure_alogorithms/blob/main/stack_LL_implementation.ipynb\" target=\"_parent\"><img src=\"https://colab.research.google.com/assets/colab-badge.svg\" alt=\"Open In Colab\"/></a>"
      ]
    },
    {
      "cell_type": "code",
      "execution_count": 22,
      "metadata": {
        "id": "v1HvidAjUOWg"
      },
      "outputs": [],
      "source": [
        "class Node:\n",
        "\n",
        "  def __init__(self, value):\n",
        "    self.data = value\n",
        "    self.next = None"
      ]
    },
    {
      "cell_type": "code",
      "source": [
        "class Stack:\n",
        "\n",
        "  def __init__(self):\n",
        "    self.top = None\n",
        "\n",
        "  def isempty(self):\n",
        "    return self.top==None\n",
        "\n",
        "  def push(self, value):\n",
        "    new_node = Node(value)\n",
        "    new_node.next = self.top\n",
        "    self.top = new_node\n",
        "  def peek(self):\n",
        "    if self.top is None:\n",
        "      return 'stack empty'\n",
        "    else:\n",
        "      return self.top.data\n",
        "\n",
        "  def pop(self):\n",
        "    if(self.isempty()):\n",
        "      return 'stack empty'\n",
        "    else:\n",
        "      data = self.top.data\n",
        "      self.top = self.top.next\n",
        "      return data\n",
        "\n",
        "  def traverse(self):\n",
        "    temp = self.top\n",
        "\n",
        "    while temp!=None:\n",
        "      print(temp.data, end='')\n",
        "      temp = temp.next\n",
        "\n",
        "  def size(self):\n",
        "    temp = self.top\n",
        "    counter = 0\n",
        "    while temp!=None:\n",
        "      temp = temp.next\n",
        "      counter+=1\n",
        "    return counter\n",
        "\n"
      ],
      "metadata": {
        "id": "GRElO2PhgJHF"
      },
      "execution_count": 23,
      "outputs": []
    },
    {
      "cell_type": "code",
      "source": [
        "s =Stack()"
      ],
      "metadata": {
        "id": "08cNN5YCVm66"
      },
      "execution_count": 24,
      "outputs": []
    },
    {
      "cell_type": "code",
      "source": [
        "s.isempty()"
      ],
      "metadata": {
        "colab": {
          "base_uri": "https://localhost:8080/"
        },
        "id": "Or0PXlQxVpnb",
        "outputId": "e158bee6-0129-49bf-82bf-da589db6643e"
      },
      "execution_count": 25,
      "outputs": [
        {
          "output_type": "execute_result",
          "data": {
            "text/plain": [
              "True"
            ]
          },
          "metadata": {},
          "execution_count": 25
        }
      ]
    },
    {
      "cell_type": "code",
      "source": [
        "s.push(2)"
      ],
      "metadata": {
        "id": "eCQZGlWgVtAz"
      },
      "execution_count": 26,
      "outputs": []
    },
    {
      "cell_type": "code",
      "source": [
        "s.isempty()"
      ],
      "metadata": {
        "colab": {
          "base_uri": "https://localhost:8080/"
        },
        "id": "98TSjVA5Vwa-",
        "outputId": "a307ac5c-db88-4fd3-f089-979fcbbe6542"
      },
      "execution_count": 27,
      "outputs": [
        {
          "output_type": "execute_result",
          "data": {
            "text/plain": [
              "False"
            ]
          },
          "metadata": {},
          "execution_count": 27
        }
      ]
    },
    {
      "cell_type": "code",
      "source": [
        "s.push(3)\n",
        "s.push(4)\n",
        "s.push(5)"
      ],
      "metadata": {
        "id": "dSDk5z1DVzqg"
      },
      "execution_count": 28,
      "outputs": []
    },
    {
      "cell_type": "code",
      "source": [
        "s.traverse()"
      ],
      "metadata": {
        "colab": {
          "base_uri": "https://localhost:8080/"
        },
        "id": "NEtt3YckV5C5",
        "outputId": "3bfb96a7-5b9a-4057-f6d5-f8beda1dfbf1"
      },
      "execution_count": 29,
      "outputs": [
        {
          "output_type": "stream",
          "name": "stdout",
          "text": [
            "5432"
          ]
        }
      ]
    },
    {
      "cell_type": "code",
      "source": [
        "s.peek()"
      ],
      "metadata": {
        "colab": {
          "base_uri": "https://localhost:8080/"
        },
        "id": "EI_MzUQoV8J6",
        "outputId": "2da672f5-2573-4cce-f1f9-f693b983a1c0"
      },
      "execution_count": 30,
      "outputs": [
        {
          "output_type": "execute_result",
          "data": {
            "text/plain": [
              "5"
            ]
          },
          "metadata": {},
          "execution_count": 30
        }
      ]
    },
    {
      "cell_type": "code",
      "source": [
        "s.pop()"
      ],
      "metadata": {
        "colab": {
          "base_uri": "https://localhost:8080/"
        },
        "id": "F3tzlwedWSbM",
        "outputId": "e3c86877-2bee-4de7-f123-60670eaf1ebb"
      },
      "execution_count": 31,
      "outputs": [
        {
          "output_type": "execute_result",
          "data": {
            "text/plain": [
              "5"
            ]
          },
          "metadata": {},
          "execution_count": 31
        }
      ]
    },
    {
      "cell_type": "code",
      "source": [
        "def string_revesal(text):\n",
        "  s = Stack()\n",
        "  for i in text:\n",
        "    s.push(i)\n",
        "  res = ''\n",
        "  while(s.isempty()==False):\n",
        "    res=res+ s.pop()\n",
        "\n",
        "  print(res)"
      ],
      "metadata": {
        "id": "uvyuLddzfmX0"
      },
      "execution_count": 32,
      "outputs": []
    },
    {
      "cell_type": "code",
      "source": [
        "string_revesal('Haldighati')\n"
      ],
      "metadata": {
        "colab": {
          "base_uri": "https://localhost:8080/"
        },
        "id": "LjaqbxElZ23x",
        "outputId": "a4bfc702-e7d1-489f-a74f-a89f4771eeb2"
      },
      "execution_count": 33,
      "outputs": [
        {
          "output_type": "stream",
          "name": "stdout",
          "text": [
            "itahgidlaH\n"
          ]
        }
      ]
    },
    {
      "cell_type": "code",
      "source": [
        "def text_editor(text, pattern):\n",
        "  u = Stack()\n",
        "  r = Stack()\n",
        "\n",
        "  for i in text:\n",
        "    u.push(i)\n",
        "\n",
        "  for i in pattern:\n",
        "    if i =='u':\n",
        "      data = u.pop()\n",
        "      r.push(data)\n",
        "    else:\n",
        "      data= r.pop()\n",
        "      u.push(data)\n",
        "\n",
        "  res=''\n",
        "  while(u.isempty()==False):\n",
        "    res = u.pop()+res\n",
        "\n",
        "  print(res)"
      ],
      "metadata": {
        "id": "YDp1J7JQ4ysv"
      },
      "execution_count": 34,
      "outputs": []
    },
    {
      "cell_type": "code",
      "source": [
        "text_editor('Kolkata','uurruu')"
      ],
      "metadata": {
        "colab": {
          "base_uri": "https://localhost:8080/"
        },
        "id": "uhsVNIjL8MQO",
        "outputId": "1d672cb3-7617-43ad-9bce-0cd548f50bdb"
      },
      "execution_count": 35,
      "outputs": [
        {
          "output_type": "stream",
          "name": "stdout",
          "text": [
            "Kolka\n"
          ]
        }
      ]
    },
    {
      "cell_type": "code",
      "source": [
        "L = [\n",
        "    [0,0,1,1],\n",
        "    [0,0,1,0],\n",
        "    [1,0,0,0],\n",
        "    [0,0,1,0],\n",
        "]"
      ],
      "metadata": {
        "id": "zfFLhuny8VGN"
      },
      "execution_count": 51,
      "outputs": []
    },
    {
      "cell_type": "code",
      "source": [
        "def celebrity(L):\n",
        "\n",
        "  s = Stack()\n",
        "\n",
        "  for i in range(len(L)):\n",
        "    s.push(i)\n",
        "\n",
        "  while s.size() >= 2:\n",
        "\n",
        "    i = s.pop()\n",
        "    j = s.pop()\n",
        "\n",
        "    if L[i][j] == 0:\n",
        "      # j is not a celebrity\n",
        "      s.push(i)\n",
        "    else:\n",
        "      # i is not a celebrity\n",
        "      s.push(j)\n",
        "\n",
        "  cel = s.pop()\n",
        "  #print(cel)\n",
        "\n",
        "  for i in range(len(L)):\n",
        "\n",
        "    if i != cel:\n",
        "\n",
        "      if L[i][cel] != 1 or L[cel][i] != 0:\n",
        "        return  (\"No celebrity\")\n",
        "  print(\"Celebrity is\",cel)\n",
        ""
      ],
      "metadata": {
        "id": "fePi7-ruCVxx"
      },
      "execution_count": 52,
      "outputs": []
    },
    {
      "cell_type": "code",
      "source": [
        "celebrity(L)"
      ],
      "metadata": {
        "colab": {
          "base_uri": "https://localhost:8080/",
          "height": 36
        },
        "id": "TvAC8GHWEIPK",
        "outputId": "ee3cc9d6-47ae-4937-8265-21e528f7e594"
      },
      "execution_count": 53,
      "outputs": [
        {
          "output_type": "execute_result",
          "data": {
            "text/plain": [
              "'No celebrity'"
            ],
            "application/vnd.google.colaboratory.intrinsic+json": {
              "type": "string"
            }
          },
          "metadata": {},
          "execution_count": 53
        }
      ]
    },
    {
      "cell_type": "code",
      "source": [],
      "metadata": {
        "id": "eXS8K85KEOAP"
      },
      "execution_count": 38,
      "outputs": []
    }
  ]
}