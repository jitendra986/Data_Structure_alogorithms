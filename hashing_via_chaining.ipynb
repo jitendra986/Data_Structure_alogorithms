{
  "nbformat": 4,
  "nbformat_minor": 0,
  "metadata": {
    "colab": {
      "provenance": [],
      "toc_visible": true,
      "authorship_tag": "ABX9TyO0YfMRG9r4Nkha07EfzWup",
      "include_colab_link": true
    },
    "kernelspec": {
      "name": "python3",
      "display_name": "Python 3"
    },
    "language_info": {
      "name": "python"
    }
  },
  "cells": [
    {
      "cell_type": "markdown",
      "metadata": {
        "id": "view-in-github",
        "colab_type": "text"
      },
      "source": [
        "<a href=\"https://colab.research.google.com/github/jitendra986/Data_Structure_alogorithms/blob/main/hashing_via_chaining.ipynb\" target=\"_parent\"><img src=\"https://colab.research.google.com/assets/colab-badge.svg\" alt=\"Open In Colab\"/></a>"
      ]
    },
    {
      "cell_type": "code",
      "execution_count": 1,
      "metadata": {
        "id": "13SUjbQ-p442"
      },
      "outputs": [],
      "source": [
        "\n",
        "class Node:\n",
        "\n",
        "  def __init__(self,key,value):\n",
        "    self.key = key\n",
        "    self.value = value\n",
        "    self.next = None\n"
      ]
    },
    {
      "cell_type": "code",
      "source": [
        "class LL:\n",
        "\n",
        "  def __init__(self):\n",
        "    self.head = None\n",
        "\n",
        "  #this add() method is going to add from tail\n",
        "  def add(self, key, value):\n",
        "\n",
        "    new_node = Node(key, value)\n",
        "\n",
        "    if self.head == None:\n",
        "      self.head = new_node\n",
        "    else:\n",
        "\n",
        "      temp = self.head\n",
        "\n",
        "      while temp.next != None:\n",
        "        temp = temp.next\n",
        "\n",
        "      temp.next = new_node\n",
        "\n",
        "  def delete_head(self):\n",
        "\n",
        "    if self.head == None:\n",
        "      return \"Empty\"\n",
        "    else:\n",
        "      self.head = self.head.next\n",
        "\n",
        "  def remove(self, key):\n",
        "    if self.head.key == key:\n",
        "      self.delete_head()\n",
        "      return\n",
        "\n",
        "    if self.head == None:\n",
        "      return \"Empty\"\n",
        "    else:\n",
        "\n",
        "      temp = self.head\n",
        "\n",
        "      while temp.next != None:\n",
        "        if temp.next.key == key:\n",
        "          break\n",
        "        temp = temp.next\n",
        "\n",
        "      if temp.next == None:\n",
        "        return \"Not Found\"\n",
        "      else:\n",
        "        temp.next = temp.next.next\n",
        "\n",
        "\n",
        "  def traverse(self):\n",
        "\n",
        "    temp = self.head\n",
        "\n",
        "    while temp != None:\n",
        "\n",
        "      print(temp.key,\"-->\",temp.value,\" \", end=\" \")\n",
        "      temp = temp.next\n",
        "\n",
        "  def size(self):\n",
        "\n",
        "    temp = self.head\n",
        "    counter = 0\n",
        "\n",
        "    while temp != None:\n",
        "\n",
        "      counter += 1\n",
        "      temp = temp.next\n",
        "\n",
        "    return counter\n",
        "\n",
        "  def search(self,key):\n",
        "\n",
        "    temp = self.head\n",
        "    pos = 0\n",
        "\n",
        "    while temp != None:\n",
        "\n",
        "      if temp.key == key:\n",
        "        return pos\n",
        "\n",
        "      temp = temp.next\n",
        "      pos += 1\n",
        "\n",
        "    return -1\n",
        "\n",
        "  def get_node_at_index(self,index):\n",
        "\n",
        "    temp = self.head\n",
        "    counter = 0\n",
        "\n",
        "    while temp is not None:\n",
        "      if counter == index:\n",
        "        return temp\n",
        "      temp = temp.next\n",
        "      counter+=1\n",
        "\n",
        "    return counter\n",
        "\n",
        ""
      ],
      "metadata": {
        "id": "g6XwWsDLr79Y"
      },
      "execution_count": 2,
      "outputs": []
    },
    {
      "cell_type": "code",
      "source": [
        "class Dictionary:\n",
        "\n",
        "  def __init__(self, capacity):\n",
        "    self.capacity = capacity\n",
        "    self.size =0\n",
        "\n",
        "    #create List of LL objects\n",
        "    self.buckets = self.make_array(self.capacity)\n",
        "\n",
        "  def make_array(self, capacity):\n",
        "    L = []\n",
        "    for i in range(capacity):\n",
        "      L.append(LL())\n",
        "    return L\n",
        "\n",
        "  def __setitem__(self,key,value):\n",
        "    self.put(key,value)\n",
        "\n",
        "  def __getitem__(self,key):\n",
        "    return self.get(key)\n",
        "\n",
        "  def __delitem__(self,key):\n",
        "    bucket_index = self.hash_function(key)\n",
        "    self.buckets[bucket_index].remove(key)\n",
        "    self.size-=1\n",
        "\n",
        "  def __str__(self):\n",
        "    for i in self.buckets:\n",
        "      i.traverse()\n",
        "    return ''\n",
        "  def __len__(self):\n",
        "    return self.size\n",
        "\n",
        "  def get(self,key):\n",
        "    bucket_index = self.hash_function(key)\n",
        "\n",
        "    res =self.buckets[bucket_index].search(key)\n",
        "    if res==-1:\n",
        "      return 'Item not present'\n",
        "    else:\n",
        "      node = self.buckets[bucket_index].get_node_at_index(res)\n",
        "      return node.value\n",
        "\n",
        "\n",
        "  def put(self, key, value):\n",
        "    bucket_index = self.hash_function(key)\n",
        "    node_index=self.get_node_index(bucket_index, key)\n",
        "\n",
        "    if node_index==-1:\n",
        "      #insertion from tail since passed key is not present.\n",
        "      self.buckets[bucket_index].add(key,value)\n",
        "      self.size+=1\n",
        "\n",
        "      load_factor = self.size/self.capacity\n",
        "      print(load_factor)\n",
        "\n",
        "      if (load_factor>=2):\n",
        "        self.rehash()\n",
        "    else:\n",
        "      #update\n",
        "      node =  self.buckets[bucket_index].get_node_at_index(node_index)\n",
        "      node.value = value\n",
        "\n",
        "  def rehash(self):\n",
        "    self.capacity=self.capacity*2\n",
        "    old_buckets = self.buckets\n",
        "    self.size=0\n",
        "    self.buckets = self.make_array(self.capacity)\n",
        "\n",
        "    for i in old_buckets:\n",
        "      for j in range(i.size()):\n",
        "        node = i.get_node_at_index(j)\n",
        "        key_item = node.key\n",
        "        value_item = node.value\n",
        "        self.put(key_item, value_item)\n",
        "\n",
        "\n",
        "\n",
        "  def get_node_index(self,bucket_index, key):\n",
        "    node_index = self.buckets[bucket_index].search(key)\n",
        "    return node_index\n",
        "\n",
        "  def hash_function(self, key):\n",
        "    return abs(hash(key))% self.capacity\n"
      ],
      "metadata": {
        "id": "jlDCrdyxsI-x"
      },
      "execution_count": 3,
      "outputs": []
    },
    {
      "cell_type": "code",
      "source": [
        "L = []\n",
        "\n",
        "for i in range(3):\n",
        "  L.append(LL())"
      ],
      "metadata": {
        "id": "2wfKJqSI-B3T"
      },
      "execution_count": 5,
      "outputs": []
    },
    {
      "cell_type": "code",
      "source": [
        "L\n",
        "#each object has different address so if we want to make changes at any bucket index we can do this"
      ],
      "metadata": {
        "colab": {
          "base_uri": "https://localhost:8080/"
        },
        "id": "eh69T216-FMi",
        "outputId": "1ab86730-3e0d-4d85-8aea-5d1c0ece982a"
      },
      "execution_count": 6,
      "outputs": [
        {
          "output_type": "execute_result",
          "data": {
            "text/plain": [
              "[<__main__.LL at 0x79a822d7f9d0>,\n",
              " <__main__.LL at 0x79a822d7e920>,\n",
              " <__main__.LL at 0x79a822d7ea40>]"
            ]
          },
          "metadata": {},
          "execution_count": 6
        }
      ]
    },
    {
      "cell_type": "code",
      "source": [
        "L = [LL()]*3"
      ],
      "metadata": {
        "id": "MPdAzT9jLcRC"
      },
      "execution_count": 7,
      "outputs": []
    },
    {
      "cell_type": "code",
      "source": [
        "L\n",
        "#each object has same address so if we want to make changes at any bucket index we can not do this because same changes are going to apply\n",
        "#every where at different-2 bucket index."
      ],
      "metadata": {
        "colab": {
          "base_uri": "https://localhost:8080/"
        },
        "id": "P8BMzllkLnUd",
        "outputId": "e9e32062-daf8-4d21-e304-14ef9adea434"
      },
      "execution_count": 8,
      "outputs": [
        {
          "output_type": "execute_result",
          "data": {
            "text/plain": [
              "[<__main__.LL at 0x79a822d7f3a0>,\n",
              " <__main__.LL at 0x79a822d7f3a0>,\n",
              " <__main__.LL at 0x79a822d7f3a0>]"
            ]
          },
          "metadata": {},
          "execution_count": 8
        }
      ]
    },
    {
      "cell_type": "markdown",
      "source": [
        "# New Section"
      ],
      "metadata": {
        "id": "QLqAqjwDfyEv"
      }
    },
    {
      "cell_type": "code",
      "source": [
        "L =LL()"
      ],
      "metadata": {
        "id": "7BhYFhr_-Gog"
      },
      "execution_count": 19,
      "outputs": []
    },
    {
      "cell_type": "code",
      "source": [
        "L.add(2,3)"
      ],
      "metadata": {
        "id": "zlAxqBj7NcEr"
      },
      "execution_count": 20,
      "outputs": []
    },
    {
      "cell_type": "code",
      "source": [
        "L.add(4,5)"
      ],
      "metadata": {
        "id": "eq-0i4-5Nd-u"
      },
      "execution_count": 21,
      "outputs": []
    },
    {
      "cell_type": "code",
      "source": [
        "L.add(6,7)"
      ],
      "metadata": {
        "id": "alI3FU5VNgiT"
      },
      "execution_count": 22,
      "outputs": []
    },
    {
      "cell_type": "code",
      "source": [
        "L.traverse()"
      ],
      "metadata": {
        "colab": {
          "base_uri": "https://localhost:8080/"
        },
        "id": "_TYVGHirNiKe",
        "outputId": "eaf183d0-10c5-4fe1-eb6e-c18dcce541bb"
      },
      "execution_count": 23,
      "outputs": [
        {
          "output_type": "stream",
          "name": "stdout",
          "text": [
            "2 --> 3   4 --> 5   6 --> 7   "
          ]
        }
      ]
    },
    {
      "cell_type": "code",
      "source": [
        "L.get_node_at_index(2).key"
      ],
      "metadata": {
        "colab": {
          "base_uri": "https://localhost:8080/"
        },
        "id": "Wr7pCDs4Nl2S",
        "outputId": "67058998-d692-4b02-fabe-84285919b9a3"
      },
      "execution_count": 24,
      "outputs": [
        {
          "output_type": "execute_result",
          "data": {
            "text/plain": [
              "6"
            ]
          },
          "metadata": {},
          "execution_count": 24
        }
      ]
    },
    {
      "cell_type": "code",
      "source": [],
      "metadata": {
        "id": "hgosFXtGqqoo"
      },
      "execution_count": null,
      "outputs": []
    },
    {
      "cell_type": "markdown",
      "source": [
        "Dictionary\n"
      ],
      "metadata": {
        "id": "mU-rhz0zqrUJ"
      }
    },
    {
      "cell_type": "code",
      "source": [
        "D1=Dictionary(2)"
      ],
      "metadata": {
        "id": "tIpqu1odNqRm"
      },
      "execution_count": 4,
      "outputs": []
    },
    {
      "cell_type": "code",
      "source": [
        "D1.put('php',34)"
      ],
      "metadata": {
        "colab": {
          "base_uri": "https://localhost:8080/"
        },
        "id": "60J6FPXROhIc",
        "outputId": "9db77699-6df7-48a9-eb98-e41c9a828244"
      },
      "execution_count": 5,
      "outputs": [
        {
          "output_type": "stream",
          "name": "stdout",
          "text": [
            "0.5\n"
          ]
        }
      ]
    },
    {
      "cell_type": "code",
      "source": [
        "D1['matlab']=805"
      ],
      "metadata": {
        "colab": {
          "base_uri": "https://localhost:8080/"
        },
        "id": "qSGIuL7-jpeP",
        "outputId": "5946ab03-88e4-4ea4-f308-426b1f0330ca"
      },
      "execution_count": 6,
      "outputs": [
        {
          "output_type": "stream",
          "name": "stdout",
          "text": [
            "1.0\n"
          ]
        }
      ]
    },
    {
      "cell_type": "code",
      "source": [
        "D1['R'] = 420"
      ],
      "metadata": {
        "colab": {
          "base_uri": "https://localhost:8080/"
        },
        "id": "2gFDj8vbO2_A",
        "outputId": "51b1af01-fa6c-453e-fd75-cc8779429024"
      },
      "execution_count": 10,
      "outputs": [
        {
          "output_type": "stream",
          "name": "stdout",
          "text": [
            "1.25\n"
          ]
        }
      ]
    },
    {
      "cell_type": "code",
      "source": [
        "print(D1)"
      ],
      "metadata": {
        "colab": {
          "base_uri": "https://localhost:8080/"
        },
        "id": "zVnc_10AQIZX",
        "outputId": "340b943a-d230-450d-8474-9df734859e70"
      },
      "execution_count": 11,
      "outputs": [
        {
          "output_type": "stream",
          "name": "stdout",
          "text": [
            "php --> 34   python --> 850   matlab --> 805   java --> 1850   R --> 420   \n"
          ]
        }
      ]
    },
    {
      "cell_type": "code",
      "source": [
        "del D1['java']"
      ],
      "metadata": {
        "id": "nH4-2lXlQNvf"
      },
      "execution_count": 12,
      "outputs": []
    },
    {
      "cell_type": "code",
      "source": [
        "D1['php']= 85"
      ],
      "metadata": {
        "id": "TGzBNDDiQaLh"
      },
      "execution_count": 13,
      "outputs": []
    },
    {
      "cell_type": "code",
      "source": [
        "print(D1)"
      ],
      "metadata": {
        "colab": {
          "base_uri": "https://localhost:8080/"
        },
        "id": "DqeoVeXQQdqD",
        "outputId": "7f2ce39a-0558-458a-ba67-c05e7ce04118"
      },
      "execution_count": 14,
      "outputs": [
        {
          "output_type": "stream",
          "name": "stdout",
          "text": [
            "php --> 85   python --> 850   matlab --> 805   R --> 420   \n"
          ]
        }
      ]
    },
    {
      "cell_type": "code",
      "source": [],
      "metadata": {
        "id": "10EeQz5FlqBw"
      },
      "execution_count": null,
      "outputs": []
    }
  ]
}